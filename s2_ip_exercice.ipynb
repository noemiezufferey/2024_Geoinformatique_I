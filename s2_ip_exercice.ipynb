{
  "cells": [
    {
      "cell_type": "markdown",
      "metadata": {
        "id": "view-in-github",
        "colab_type": "text"
      },
      "source": [
        "<a href=\"https://colab.research.google.com/github/noemiezufferey/2024_Geoinformatique_I/blob/main/s2_ip_exercice.ipynb\" target=\"_parent\"><img src=\"https://colab.research.google.com/assets/colab-badge.svg\" alt=\"Open In Colab\"/></a>"
      ]
    },
    {
      "cell_type": "markdown",
      "metadata": {
        "id": "ZXnjONpwCaJ5"
      },
      "source": [
        "# Exercice 2 - Structure de contrôle"
      ]
    },
    {
      "cell_type": "markdown",
      "metadata": {
        "id": "OyMIBjQrCaJ6"
      },
      "source": [
        "## Conditions if, else, elif"
      ]
    },
    {
      "cell_type": "markdown",
      "metadata": {
        "id": "caKuJ59zjW39"
      },
      "source": [
        "**1. Vérification de la parité**"
      ]
    },
    {
      "cell_type": "code",
      "execution_count": null,
      "metadata": {
        "id": "wkrwV1yvjW3-",
        "colab": {
          "base_uri": "https://localhost:8080/"
        },
        "outputId": "71111908-c2dc-46f9-db18-67f8e4058e98"
      },
      "outputs": [
        {
          "output_type": "stream",
          "name": "stdout",
          "text": [
            "Pair\n"
          ]
        }
      ],
      "source": [
        "# Ecrivez votre code ici\n",
        "nombre = 6 #Entrez un nombre entier\n",
        "\n",
        "if nombre % 2 == 0 :\n",
        "    print(\"Pair\")\n",
        "else:\n",
        "    print(\"Impaire\")"
      ]
    },
    {
      "cell_type": "markdown",
      "metadata": {
        "id": "b1goU-5bjW3_"
      },
      "source": [
        "**2. Comparaison de deux nombres**"
      ]
    },
    {
      "cell_type": "code",
      "execution_count": null,
      "metadata": {
        "id": "SkjaBcb-jW3_",
        "colab": {
          "base_uri": "https://localhost:8080/"
        },
        "outputId": "989fdc8c-d1c2-4b9c-ab66-d59a18a354fe"
      },
      "outputs": [
        {
          "output_type": "stream",
          "name": "stdout",
          "text": [
            "Le premier nombre est plus grand.\n"
          ]
        }
      ],
      "source": [
        "nombre1 = 7.2 #Entrez un chiffre à virgule\n",
        "nombre2 = 3.8 #Entrez un deuxième chiffre à virgule\n",
        "\n",
        "if nombre1 > nombre2:\n",
        "    print(\"Le premier nombre est plus grand.\")\n",
        "elif nombre2 > nombre1 :\n",
        "    print(\"Le deuxième nombre est plus grand.\")\n",
        "else: #nombre1==nombre2\n",
        "    print(\"Les deux nombres sont égaux\")"
      ]
    },
    {
      "cell_type": "markdown",
      "metadata": {
        "id": "gkNLNNSNjW3_"
      },
      "source": [
        "**3. Catégorisation d'âges**"
      ]
    },
    {
      "cell_type": "code",
      "execution_count": null,
      "metadata": {
        "id": "h1AnFjiKjW4A",
        "colab": {
          "base_uri": "https://localhost:8080/"
        },
        "outputId": "f8e836e3-bc32-490e-d9e2-b255d76c7e9f"
      },
      "outputs": [
        {
          "output_type": "stream",
          "name": "stdout",
          "text": [
            "Adulte\n"
          ]
        }
      ],
      "source": [
        "age = 20 # Entrez un nombre entier\n",
        "if age < 12:\n",
        "    print(\"Enfant\")\n",
        "elif 12 <= age < 18:\n",
        "    print(\"Adolescent\")\n",
        "elif 18 <= age < 65:\n",
        "    print(\"Adulte\")\n",
        "else: #age>= 65\n",
        "    print(\"Senior\")\n"
      ]
    },
    {
      "cell_type": "code",
      "source": [
        "# Exercice révisions\n",
        "Moyenne = 10\n",
        "if Moyenne < 10:\n",
        "    print(\"Recalé\")\n",
        "elif 10 <= Moyenne < 12:\n",
        "    print (\"Passable\")\n",
        "elif 12 <= Moyenne < 14:\n",
        "    print (\"Assez bien\")\n",
        "elif 14 <= Moyenne < 16:\n",
        "    print (\"Bien\")\n",
        "elif 16 <= Moyenne <= 20:\n",
        "    print (\"Très bien\")"
      ],
      "metadata": {
        "id": "g4oiDQCnVB1J",
        "outputId": "eba16814-4976-41d5-c878-769b81f42975",
        "colab": {
          "base_uri": "https://localhost:8080/"
        }
      },
      "execution_count": null,
      "outputs": [
        {
          "output_type": "stream",
          "name": "stdout",
          "text": [
            "Passable\n"
          ]
        }
      ]
    },
    {
      "cell_type": "code",
      "source": [],
      "metadata": {
        "id": "c2iK7giVV7th"
      },
      "execution_count": null,
      "outputs": []
    },
    {
      "cell_type": "markdown",
      "metadata": {
        "id": "agjI6dl_CaJ7"
      },
      "source": [
        "## Boucle for et while"
      ]
    },
    {
      "cell_type": "markdown",
      "metadata": {
        "id": "jbGswyVvjW4A"
      },
      "source": [
        "**1. Ecrire une boucle `while` pour afficher les valeurs des classements d'une liste de lecture d'albums stockée dans la liste <code>PlayListRatings</code>. Si le score est inférieur à 6, on sort de la boucle. La liste <code>PlayListRatings</code> est donnée par : <code>PlayListRatings = [10, 9.5, 10, 8, 7.5, 5, 10, 10]</code>**"
      ]
    },
    {
      "cell_type": "code",
      "execution_count": null,
      "metadata": {
        "id": "ploHyFu2jW4A",
        "colab": {
          "base_uri": "https://localhost:8080/"
        },
        "outputId": "9fe87409-adf5-4f34-e1f6-22701e62d758"
      },
      "outputs": [
        {
          "output_type": "stream",
          "name": "stdout",
          "text": [
            "10\n",
            "9.5\n",
            "10\n",
            "8\n",
            "7.5\n"
          ]
        }
      ],
      "source": [
        "# Ecrivez votre code ici\n",
        "PlayListRating = [10, 9.5, 10, 8, 7.5, 5, 10, 10]\n",
        "\n",
        "# Astuce : Utilisez l'indexation de la liste comme critère (longueur de votre liste)\n",
        "indx = 0\n",
        "while indx<len(PlayListRating):\n",
        "  if PlayListRating[indx]<6:\n",
        "    break\n",
        "  else:\n",
        "    print(PlayListRating[indx])\n",
        "  indx +=1"
      ]
    },
    {
      "cell_type": "markdown",
      "metadata": {
        "id": "WHXaD4_3jW4A"
      },
      "source": [
        "**2. Répétez ce que vous venez de faire, cette fois en utilisant une boucle `for`**."
      ]
    },
    {
      "cell_type": "code",
      "execution_count": null,
      "metadata": {
        "id": "CIgtC_4zjW4A",
        "colab": {
          "base_uri": "https://localhost:8080/"
        },
        "outputId": "e2cbfb48-cfdf-4b43-9a54-6091f972ac88"
      },
      "outputs": [
        {
          "output_type": "stream",
          "name": "stdout",
          "text": [
            "10\n",
            "9.5\n",
            "10\n",
            "8\n",
            "7.5\n"
          ]
        }
      ],
      "source": [
        "for indx in range(len(PlayListRating)):\n",
        "  if PlayListRating[indx]<6:\n",
        "    break\n",
        "  else:\n",
        "    print(PlayListRating[indx])"
      ]
    },
    {
      "cell_type": "markdown",
      "metadata": {
        "id": "VZQhdaf5jW4B"
      },
      "source": [
        "**3. Ecrivez une boucle `for` qui imprime (affiche) la liste suivante : <code>carres=['rouge', 'jaune', 'vert', 'violet', 'bleu']</code>**"
      ]
    },
    {
      "cell_type": "code",
      "execution_count": null,
      "metadata": {
        "id": "kh8TmInPjW4B",
        "colab": {
          "base_uri": "https://localhost:8080/",
          "height": 228
        },
        "outputId": "4c8620d0-9cb6-4583-a133-0ce4747409ca"
      },
      "outputs": [
        {
          "output_type": "error",
          "ename": "AttributeError",
          "evalue": "'str' object has no attribute 'append'",
          "traceback": [
            "\u001b[0;31m---------------------------------------------------------------------------\u001b[0m",
            "\u001b[0;31mAttributeError\u001b[0m                            Traceback (most recent call last)",
            "\u001b[0;32m<ipython-input-19-62c7e94db5ef>\u001b[0m in \u001b[0;36m<cell line: 2>\u001b[0;34m()\u001b[0m\n\u001b[1;32m      1\u001b[0m \u001b[0mcarres\u001b[0m \u001b[0;34m=\u001b[0m \u001b[0;34m[\u001b[0m\u001b[0;34m'rouge'\u001b[0m\u001b[0;34m,\u001b[0m \u001b[0;34m'jaune'\u001b[0m\u001b[0;34m,\u001b[0m \u001b[0;34m'vert'\u001b[0m\u001b[0;34m,\u001b[0m \u001b[0;34m'violet'\u001b[0m\u001b[0;34m,\u001b[0m \u001b[0;34m'bleu'\u001b[0m\u001b[0;34m]\u001b[0m \u001b[0;31m# An empty list\u001b[0m\u001b[0;34m\u001b[0m\u001b[0;34m\u001b[0m\u001b[0m\n\u001b[1;32m      2\u001b[0m \u001b[0;32mfor\u001b[0m \u001b[0mindex\u001b[0m \u001b[0;34m,\u001b[0m\u001b[0mcarres\u001b[0m \u001b[0;32min\u001b[0m \u001b[0menumerate\u001b[0m\u001b[0;34m(\u001b[0m\u001b[0;34m[\u001b[0m\u001b[0;34m'rouge'\u001b[0m\u001b[0;34m,\u001b[0m \u001b[0;34m'jaune'\u001b[0m\u001b[0;34m,\u001b[0m \u001b[0;34m'vert'\u001b[0m\u001b[0;34m,\u001b[0m \u001b[0;34m'violet'\u001b[0m\u001b[0;34m,\u001b[0m \u001b[0;34m'bleu'\u001b[0m\u001b[0;34m]\u001b[0m\u001b[0;34m)\u001b[0m\u001b[0;34m:\u001b[0m\u001b[0;34m\u001b[0m\u001b[0;34m\u001b[0m\u001b[0m\n\u001b[0;32m----> 3\u001b[0;31m   \u001b[0mcarres\u001b[0m\u001b[0;34m.\u001b[0m\u001b[0mappend\u001b[0m\u001b[0;34m(\u001b[0m\u001b[0mstr\u001b[0m\u001b[0;34m)\u001b[0m \u001b[0;31m# Here you add (append) the elements one by one to the empty list\u001b[0m\u001b[0;34m\u001b[0m\u001b[0;34m\u001b[0m\u001b[0m\n\u001b[0m\u001b[1;32m      4\u001b[0m \u001b[0;34m\u001b[0m\u001b[0m\n\u001b[1;32m      5\u001b[0m \u001b[0mprint\u001b[0m\u001b[0;34m(\u001b[0m\u001b[0mcarres\u001b[0m\u001b[0;34m)\u001b[0m\u001b[0;34m\u001b[0m\u001b[0;34m\u001b[0m\u001b[0m\n",
            "\u001b[0;31mAttributeError\u001b[0m: 'str' object has no attribute 'append'"
          ]
        }
      ],
      "source": [
        "carres = ['rouge', 'jaune', 'vert', 'violet', 'bleu'] # An empty list\n",
        "for index ,carres in enumerate(['rouge', 'jaune', 'vert', 'violet', 'bleu']):\n",
        "  carres.append(str) # Here you add (append) the elements one by one to the empty list\n",
        "\n",
        "print(carres)"
      ]
    },
    {
      "cell_type": "code",
      "source": [],
      "metadata": {
        "id": "TqgrrKf6FcUq"
      },
      "execution_count": null,
      "outputs": []
    },
    {
      "cell_type": "code",
      "source": [
        "import geopandas as gpd\n",
        "from shapely.ops import unary_union\n",
        "from shapely.geometry import Polygon\n",
        "import matplotlib.pyplot as plt\n",
        "\n",
        "# Charger le GeoPackage\n",
        "path_to_geopackage = \"/content/geoinf-proj-ze-9933.gpkg\"  # Remplacez par le chemin de votre fichier\n",
        "layer_name = \"ze_9933\"  # Remplacez par le nom de votre couche\n",
        "\n",
        "gdf = gpd.read_file(path_to_geopackage, layer=layer_name)\n",
        "\n",
        "# Fusionner tous les polygones en une seule géométrie\n",
        "total_geometry = unary_union(gdf.geometry)\n",
        "\n",
        "# Créer des zones tampons pour 500 m, 1 km, et 5 km\n",
        "buffer_500m = total_geometry.buffer(500)\n",
        "buffer_1km = total_geometry.buffer(1000)\n",
        "buffer_5km = total_geometry.buffer(5000)\n",
        "\n",
        "# Calculer les différences pour obtenir les anneaux\n",
        "ring_1km = buffer_1km.difference(buffer_500m)\n",
        "ring_5km = buffer_5km.difference(buffer_1km)\n",
        "\n",
        "# Créer un GeoDataFrame pour chaque zone pour la visualisation\n",
        "gdf_500m = gpd.GeoDataFrame(geometry=[buffer_500m], crs=gdf.crs)\n",
        "gdf_1km_ring = gpd.GeoDataFrame(geometry=[ring_1km], crs=gdf.crs)\n",
        "gdf_5km_ring = gpd.GeoDataFrame(geometry=[ring_5km], crs=gdf.crs)\n",
        "\n",
        "# Visualiser les résultats\n",
        "fig, ax = plt.subplots(figsize=(10, 10))\n",
        "gdf_5km_ring.plot(ax=ax, color=\"lightgreen\", edgecolor=\"black\", label=\"5 km\")\n",
        "gdf_1km_ring.plot(ax=ax, color=\"lightblue\", edgecolor=\"black\", label=\"1 km\")\n",
        "gdf_500m.plot(ax=ax, color=\"lightcoral\", edgecolor=\"black\", label=\"500 m\")\n",
        "\n",
        "# Afficher la zone industrielle originale\n",
        "gdf.boundary.plot(ax=ax, color=\"brown\", linewidth=1, label=\"Zone industrielle\")\n",
        "\n",
        "plt.legend()\n",
        "plt.title(\"Zones tampons autour de la zone industrielle\")\n",
        "plt.show()\n",
        "\n",
        "# Sauvegarder les résultats dans un fichier GeoPackage\n",
        "gdf_500m.to_file(\"buffer_500m.gpkg\", driver=\"GPKG\")\n",
        "gdf_1km_ring.to_file(\"buffer_1km_ring.gpkg\", driver=\"GPKG\")\n",
        "gdf_5km_ring.to_file(\"buffer_5km_ring.gpkg\", driver=\"GPKG\")"
      ],
      "metadata": {
        "colab": {
          "base_uri": "https://localhost:8080/",
          "height": 923
        },
        "id": "AjIoVu4aFcF2",
        "outputId": "143f167f-d66e-423e-ab3a-19b93a29b313"
      },
      "execution_count": null,
      "outputs": [
        {
          "output_type": "stream",
          "name": "stderr",
          "text": [
            "<ipython-input-7-2606bec33abd>:38: UserWarning: Legend does not support handles for PatchCollection instances.\n",
            "See: https://matplotlib.org/stable/tutorials/intermediate/legend_guide.html#implementing-a-custom-legend-handler\n",
            "  plt.legend()\n"
          ]
        },
        {
          "output_type": "display_data",
          "data": {
            "text/plain": [
              "<Figure size 1000x1000 with 1 Axes>"
            ],
            "image/png": "[encoded data removed]"
          },
          "metadata": {}
        }
      ]
    },
    {
      "cell_type": "code",
      "source": [
        "# Recherche du nom de la couche dans le geopackage\n",
        "!pip install fiona\n",
        "import fiona\n",
        "path_to_geopackage = \"/content/geoinf-proj-ze-9933.gpkg\"  # Remplacez par le chemin de votre fichier\n",
        "print(fiona.listlayers(path_to_geopackage))\n"
      ],
      "metadata": {
        "collapsed": true,
        "colab": {
          "base_uri": "https://localhost:8080/"
        },
        "id": "OI2Nw7GVHrUR",
        "outputId": "d463336f-3523-41e5-84ab-9c347eaf77c7"
      },
      "execution_count": null,
      "outputs": [
        {
          "output_type": "stream",
          "name": "stdout",
          "text": [
            "Collecting fiona\n",
            "  Downloading fiona-1.10.1-cp310-cp310-manylinux_2_17_x86_64.manylinux2014_x86_64.whl.metadata (56 kB)\n",
            "\u001b[?25l     \u001b[90m━━━━━━━━━━━━━━━━━━━━━━━━━━━━━━━━━━━━━━━━\u001b[0m \u001b[32m0.0/56.6 kB\u001b[0m \u001b[31m?\u001b[0m eta \u001b[36m-:--:--\u001b[0m\r\u001b[2K     \u001b[90m━━━━━━━━━━━━━━━━━━━━━━━━━━━━━━━━━━━━━━━━\u001b[0m \u001b[32m56.6/56.6 kB\u001b[0m \u001b[31m2.2 MB/s\u001b[0m eta \u001b[36m0:00:00\u001b[0m\n",
            "\u001b[?25hRequirement already satisfied: attrs>=19.2.0 in /usr/local/lib/python3.10/dist-packages (from fiona) (24.2.0)\n",
            "Requirement already satisfied: certifi in /usr/local/lib/python3.10/dist-packages (from fiona) (2024.8.30)\n",
            "Requirement already satisfied: click~=8.0 in /usr/local/lib/python3.10/dist-packages (from fiona) (8.1.7)\n",
            "Collecting click-plugins>=1.0 (from fiona)\n",
            "  Downloading click_plugins-1.1.1-py2.py3-none-any.whl.metadata (6.4 kB)\n",
            "Collecting cligj>=0.5 (from fiona)\n",
            "  Downloading cligj-0.7.2-py3-none-any.whl.metadata (5.0 kB)\n",
            "Downloading fiona-1.10.1-cp310-cp310-manylinux_2_17_x86_64.manylinux2014_x86_64.whl (17.3 MB)\n",
            "\u001b[2K   \u001b[90m━━━━━━━━━━━━━━━━━━━━━━━━━━━━━━━━━━━━━━━━\u001b[0m \u001b[32m17.3/17.3 MB\u001b[0m \u001b[31m51.2 MB/s\u001b[0m eta \u001b[36m0:00:00\u001b[0m\n",
            "\u001b[?25hDownloading click_plugins-1.1.1-py2.py3-none-any.whl (7.5 kB)\n",
            "Downloading cligj-0.7.2-py3-none-any.whl (7.1 kB)\n",
            "Installing collected packages: cligj, click-plugins, fiona\n",
            "Successfully installed click-plugins-1.1.1 cligj-0.7.2 fiona-1.10.1\n",
            "['ze_9933']\n"
          ]
        }
      ]
    },
    {
      "cell_type": "code",
      "source": [
        "import fiona\n",
        "\n",
        "# Chemin vers votre fichier GeoPackage\n",
        "path_to_geopackage = \"/content/swissBOUNDARIES3D_1_5_LV95_LN02.gpkg\"\n",
        "\n",
        "# Obtenir et afficher la liste des couches\n",
        "layers = fiona.listlayers(path_to_geopackage)\n",
        "print(\"Couches disponibles dans le GeoPackage :\")\n",
        "for layer in layers:\n",
        "    print(layer)\n"
      ],
      "metadata": {
        "colab": {
          "base_uri": "https://localhost:8080/"
        },
        "id": "pCOoCtdkLwlc",
        "outputId": "36ce1eca-445a-44ec-8f9d-d62f798cdbd8"
      },
      "execution_count": null,
      "outputs": [
        {
          "output_type": "stream",
          "name": "stdout",
          "text": [
            "Couches disponibles dans le GeoPackage :\n",
            "tlm_hoheitsgrenze\n",
            "tlm_hoheitsgebiet\n",
            "tlm_bezirksgebiet\n",
            "tlm_landesgebiet\n",
            "tlm_kantonsgebiet\n"
          ]
        }
      ]
    },
    {
      "cell_type": "code",
      "source": [
        "import geopandas as gpd\n",
        "\n",
        "# Charger le geopackage et la couche spécifiée\n",
        "gpkg_path = \"/content/swissBOUNDARIES3D_1_5_LV95_LN02.gpkg\"\n",
        "layer_name = \"tlm_hoheitsgebiet\"\n",
        "\n",
        "# Charger la couche dans un GeoDataFrame\n",
        "gdf = gpd.read_file(gpkg_path, layer=layer_name)\n",
        "\n",
        "# Afficher les colonnes du GeoDataFrame\n",
        "print(gdf.columns)\n"
      ],
      "metadata": {
        "colab": {
          "base_uri": "https://localhost:8080/"
        },
        "id": "nk8WPHsQN3Dz",
        "outputId": "689008fc-1d2d-41ea-f18f-3efe7844239a"
      },
      "execution_count": null,
      "outputs": [
        {
          "output_type": "stream",
          "name": "stdout",
          "text": [
            "Index(['uuid', 'datum_aenderung', 'datum_erstellung', 'erstellung_jahr',\n",
            "       'erstellung_monat', 'grund_aenderung', 'herkunft', 'herkunft_jahr',\n",
            "       'herkunft_monat', 'revision_jahr', 'revision_monat',\n",
            "       'revision_qualitaet', 'objektart', 'bfs_nummer', 'bezirksnummer',\n",
            "       'kantonsnummer', 'name', 'gem_flaeche', 'see_flaeche', 'icc', 'shn',\n",
            "       'einwohnerzahl', 'hist_nr', 'geometry'],\n",
            "      dtype='object')\n"
          ]
        }
      ]
    },
    {
      "cell_type": "code",
      "source": [
        "# Créer un dictionnaire pour les zones tampons\n",
        "zi_buf = {\n",
        "    '500m': buffer_500m,\n",
        "    '1km': ring_1km,\n",
        "    '5km': ring_5km\n",
        "}\n",
        "\n",
        "# Convertir les géométries brutes en GeoDataFrames\n",
        "zi_buf_gdf = {\n",
        "    k: gpd.GeoDataFrame(geometry=[poly], crs=gdf.crs)\n",
        "    for k, poly in zi_buf.items()\n",
        "}\n",
        "\n",
        "# Charger les données des communes (remplacer 'communes_file' par votre fichier réel)\n",
        "communes_file = \"/content/swissBOUNDARIES3D_1_5_LV95_LN02.gpkg\"  # Remplacez par le chemin de votre fichier des communes\n",
        "communes_layer_name = \"tlm_hoheitsgebiet\"  # Remplacez par le nom exact de la couche souhaitée\n",
        "communes_gdf = gpd.read_file(communes_file, layer=communes_layer_name)\n",
        "\n",
        "\n",
        "# Calculer l'intersection entre les zones tampons et les communes\n",
        "zi_buf_cmnes = {\n",
        "    k: gpd.overlay(gdf, communes_gdf, how='intersection')\n",
        "    for k, gdf in zi_buf_gdf.items()\n",
        "}\n",
        "\n",
        "# Fonction pour inspecter et visualiser les résultats\n",
        "def inspect_result(buffer_name):\n",
        "    print(f\"Inspection de la zone tampon {buffer_name}:\")\n",
        "    print(\"Avant intersection:\")\n",
        "    print(zi_buf_gdf[buffer_name])\n",
        "    print(\"Après intersection:\")\n",
        "    print(zi_buf_cmnes[buffer_name])\n",
        "    print(\"Affichage graphique:\")\n",
        "    zi_buf_cmnes[buffer_name].plot()\n",
        "    plt.title(f\"Intersection de la zone tampon {buffer_name}\")\n",
        "    plt.show()\n",
        "\n",
        "# Exemple: inspection de la zone tampon de 500m\n",
        "inspect_result('500m')\n",
        "\n",
        "# Compter le nombre de personnes par commune pour chaque zone tampon (suppose une colonne 'population')\n",
        "population_counts = {\n",
        "    k: gdf.groupby('name')['einwohnerzahl'].sum()\n",
        "    for k, gdf in zi_buf_cmnes.items()\n",
        "}\n",
        "\n",
        "# Afficher les résultats\n",
        "for buffer_name, counts in population_counts.items():\n",
        "    print(f\"Population par commune pour la zone tampon {buffer_name}:\")\n",
        "    print(counts)\n",
        "\n",
        "# Sauvegarder les résultats\n",
        "for buffer_name, gdf in zi_buf_cmnes.items():\n",
        "    output_file = f\"buffer_{buffer_name}_intersect.gpkg\"\n",
        "    gdf.to_file(output_file, driver=\"GPKG\")\n"
      ],
      "metadata": {
        "colab": {
          "base_uri": "https://localhost:8080/",
          "height": 1000
        },
        "id": "r_OwlHDLIMk3",
        "outputId": "026fbdab-7297-4bf1-f297-b0dfd77b5891"
      },
      "execution_count": null,
      "outputs": [
        {
          "output_type": "stream",
          "name": "stdout",
          "text": [
            "Inspection de la zone tampon 500m:\n",
            "Avant intersection:\n",
            "                                            geometry\n",
            "0  POLYGON ((2537392.533 1158432.649, 2537398.342...\n",
            "Après intersection:\n",
            "                                     uuid datum_aenderung datum_erstellung  \\\n",
            "0  {711AB9D3-BE76-4DF6-BB85-AF8BA3EE531C}      2023-11-08       2008-11-24   \n",
            "1  {FA8F5DEB-65A9-45CF-9510-3BC84A782842}      2023-10-24       2008-11-24   \n",
            "2  {C47941E0-223D-4A70-A15E-DD8489E301D4}      2023-10-24       2008-11-24   \n",
            "3  {5E6836AB-0BCD-473E-8323-C69E1604F0E3}      2023-10-24       2008-11-24   \n",
            "\n",
            "   erstellung_jahr  erstellung_monat grund_aenderung   herkunft  \\\n",
            "0             2006                 1      Verbessert  swisstopo   \n",
            "1             2006                 1      Verbessert  swisstopo   \n",
            "2             2006                 1      Verbessert  swisstopo   \n",
            "3             2006                 1      Verbessert  swisstopo   \n",
            "\n",
            "   herkunft_jahr  herkunft_monat  revision_jahr  ...  bezirksnummer  \\\n",
            "0           2024               1           2024  ...         2223.0   \n",
            "1           2024               1           2024  ...         2225.0   \n",
            "2           2024               1           2024  ...         2223.0   \n",
            "3           2024               1           2024  ...         2225.0   \n",
            "\n",
            "  kantonsnummer                  name  gem_flaeche  see_flaeche  icc  \\\n",
            "0          22.0          Morrens (VD)        367.0          0.0   CH   \n",
            "1          22.0              Lausanne       6763.0       2626.0   CH   \n",
            "2          22.0             Cugy (VD)        291.0          0.0   CH   \n",
            "3          22.0  Le Mont-sur-Lausanne        980.0          0.0   CH   \n",
            "\n",
            "          shn  einwohnerzahl  hist_nr  \\\n",
            "0  CH22235527           1172  14687.0   \n",
            "1  CH22255586         141418  14649.0   \n",
            "2  CH22235516           2696  14825.0   \n",
            "3  CH22255587           9291  14647.0   \n",
            "\n",
            "                                            geometry  \n",
            "0  MULTIPOLYGON Z (((2537578.769 1159049.235 661....  \n",
            "1  POLYGON Z ((2537398.342 1158479.615 581.751, 2...  \n",
            "2  POLYGON Z ((2538137.93 1159434.336 667.153, 25...  \n",
            "3  POLYGON Z ((2538686.773 1158293.56 698.216, 25...  \n",
            "\n",
            "[4 rows x 24 columns]\n",
            "Affichage graphique:\n"
          ]
        },
        {
          "output_type": "display_data",
          "data": {
            "text/plain": [
              "<Figure size 640x480 with 1 Axes>"
            ],
            "image/png": "[encoded data removed]"
          },
          "metadata": {}
        },
        {
          "output_type": "stream",
          "name": "stdout",
          "text": [
            "Population par commune pour la zone tampon 500m:\n",
            "name\n",
            "Cugy (VD)                 2696\n",
            "Lausanne                141418\n",
            "Le Mont-sur-Lausanne      9291\n",
            "Morrens (VD)              1172\n",
            "Name: einwohnerzahl, dtype: int32\n",
            "Population par commune pour la zone tampon 1km:\n",
            "name\n",
            "Cugy (VD)                 2696\n",
            "Lausanne                141418\n",
            "Le Mont-sur-Lausanne      9291\n",
            "Morrens (VD)              1172\n",
            "Romanel-sur-Lausanne      3788\n",
            "Name: einwohnerzahl, dtype: int32\n",
            "Population par commune pour la zone tampon 5km:\n",
            "name\n",
            "Assens                     1672\n",
            "Bottens                    1351\n",
            "Boussens                   1006\n",
            "Bretigny-sur-Morrens        877\n",
            "Bussigny                  10365\n",
            "Cheseaux-sur-Lausanne      4517\n",
            "Crissier                   9181\n",
            "Cugy (VD)                  2696\n",
            "Epalinges                  9822\n",
            "Etagnières                 1147\n",
            "Froideville                2722\n",
            "Jouxtens-Mézery            1468\n",
            "Lausanne                 141418\n",
            "Le Mont-sur-Lausanne       9291\n",
            "Mex (VD)                    818\n",
            "Morrens (VD)               1172\n",
            "Prilly                    12294\n",
            "Renens (VD)               21086\n",
            "Romanel-sur-Lausanne       3788\n",
            "Sullens                    1168\n",
            "Villars-Sainte-Croix        982\n",
            "Name: einwohnerzahl, dtype: int32\n"
          ]
        }
      ]
    },
    {
      "cell_type": "code",
      "source": [
        "import geopandas as gpd\n",
        "import fiona\n",
        "\n",
        "# Chemin vers votre GeoPackage\n",
        "path_to_geopackage = \"/content/ofs_geostat.gpkg\"  # Remplacez par le chemin de votre fichier\n",
        "\n",
        "# Lister les couches disponibles dans le GeoPackage\n",
        "layers = fiona.listlayers(path_to_geopackage)\n",
        "\n",
        "# Afficher les noms des couches\n",
        "print(\"Couches disponibles dans le GeoPackage :\")\n",
        "for layer in layers:\n",
        "    print(layer)\n"
      ],
      "metadata": {
        "colab": {
          "base_uri": "https://localhost:8080/"
        },
        "id": "qI2poJ5YqG-l",
        "outputId": "f00ee9ee-3415-42bf-9bd3-25af4cfd0f9b"
      },
      "execution_count": null,
      "outputs": [
        {
          "output_type": "stream",
          "name": "stdout",
          "text": [
            "Couches disponibles dans le GeoPackage :\n",
            "ofs_geostat\n",
            "pop_2023\n",
            "empl_2022\n"
          ]
        }
      ]
    },
    {
      "cell_type": "code",
      "source": [
        "import geopandas as gpd\n",
        "import fiona\n",
        "\n",
        "# Chemin vers votre GeoPackage\n",
        "path_to_geopackage = \"/content/ofs_geostat.gpkg\"  # Remplacez par le chemin de votre fichier\n",
        "\n",
        "# Lister les couches disponibles dans le GeoPackage\n",
        "layers = fiona.listlayers(path_to_geopackage)\n",
        "\n",
        "# Afficher les noms des couches\n",
        "print(\"Couches disponibles dans le GeoPackage :\")\n",
        "for layer in layers:\n",
        "    print(layer)\n",
        "\n",
        "    # Charger la couche pour lire ses colonnes\n",
        "    gdf = gpd.read_file(path_to_geopackage, layer=layer)\n",
        "    print(f\"Colonnes dans la couche {layer} :\")\n",
        "    print(gdf.columns.tolist())\n"
      ],
      "metadata": {
        "colab": {
          "base_uri": "https://localhost:8080/"
        },
        "id": "pUwbi8IBtmtz",
        "outputId": "716d895f-7e1a-446a-8498-0dc412a1da90"
      },
      "execution_count": null,
      "outputs": [
        {
          "output_type": "stream",
          "name": "stdout",
          "text": [
            "Couches disponibles dans le GeoPackage :\n",
            "ofs_geostat\n",
            "Colonnes dans la couche ofs_geostat :\n",
            "['geometry']\n",
            "pop_2023\n",
            "Colonnes dans la couche pop_2023 :\n",
            "['E_KOORD', 'N_KOORD', 'BBTOT', 'geometry']\n",
            "empl_2022\n",
            "Colonnes dans la couche empl_2022 :\n",
            "['E_KOORD', 'N_KOORD', 'B08EMPT', 'geometry']\n"
          ]
        }
      ]
    },
    {
      "cell_type": "code",
      "source": [
        "import geopandas as gpd\n",
        "import fiona\n",
        "import pandas as pd\n",
        "\n",
        "# Chemin vers votre GeoPackage\n",
        "path_to_geopackage = \"/content/ofs_geostat.gpkg\"  # Remplacez par le chemin de votre fichier\n",
        "\n",
        "# Charger les couches de population et d'emplois\n",
        "layer_population = \"pop_2023\"  # Remplacez par le nom de la couche population\n",
        "layer_emplois = \"empl_2022\"  # Remplacez par le nom de la couche emplois\n",
        "\n",
        "population_gdf = gpd.read_file(path_to_geopackage, layer=layer_population)\n",
        "emplois_gdf = gpd.read_file(path_to_geopackage, layer=layer_emplois)\n",
        "\n",
        "# Ajouter la somme des populations et des emplois à chaque zone tampon\n",
        "for buffer_name, buffer_gdf in zi_buf_gdf.items():\n",
        "    buffer_gdf = buffer_gdf.copy()  # Éviter les modifications inattendues sur l'original\n",
        "\n",
        "    # Assurez-vous que les noms des colonnes sont corrects ('Pop2023' et 'Empl2022' sont des exemples)\n",
        "    sjoin_summarize(buffer_gdf, population_gdf, 'BBTOT', '')  # Nom réel à remplacer\n",
        "    sjoin_summarize(buffer_gdf, emplois_gdf, 'B08EMPT', 'empl_2022_sum')  # Nom réel à remplacer\n",
        "\n",
        "    # Ajouter la colonne 'peri' indiquant la zone tampon\n",
        "    buffer_gdf['peri'] = buffer_name\n",
        "\n",
        "\n",
        "# Fonction pour faire une jointure spatiale et résumer les données\n",
        "def sjoin_summarize(poly_lyr, pts_lyr, pts_colname, poly_newcolname):\n",
        "    \"\"\"\n",
        "    Associe les points aux polygones via une jointure spatiale et calcule la somme d'une colonne.\n",
        "    \"\"\"\n",
        "    sjoin = pts_lyr.sjoin(poly_lyr, how='inner', predicate='within')\n",
        "    somme_par_poly = sjoin.groupby(sjoin.index_right)[BBTOT].sum()\n",
        "    poly_lyr[poly_newcolname] = poly_lyr.index.map(somme_par_poly).fillna(0)\n",
        "\n",
        "# Calcul des habitants et emplois pour chaque zone tampon\n",
        "zi_buf_collections = {}\n",
        "for buffer_name, buffer_gdf in zi_buf_gdf.items():\n",
        "    buffer_gdf = buffer_gdf.copy()  # Evite les modifications inattendues\n",
        "    sjoin_summarize(buffer_gdf, population_gdf, 'population', 'pop_2023_sum')\n",
        "    sjoin_summarize(buffer_gdf, emplois_gdf, 'emplois', 'empl_2022_sum')\n",
        "    buffer_gdf['peri'] = buffer_name  # Ajoute la colonne \"peri\"\n",
        "    zi_buf_collections[buffer_name] = buffer_gdf\n",
        "\n",
        "# Extraction des colonnes nécessaires\n",
        "data_500m = zi_buf_collections['500m'][['bfs_nummer', 'name', 'peri', 'pop_2023_sum', 'empl_2022_sum']]\n",
        "data_1km = zi_buf_collections['1km'][['bfs_nummer', 'name', 'peri', 'pop_2023_sum', 'empl_2022_sum']]\n",
        "data_5km = zi_buf_collections['5km'][['bfs_nummer', 'name', 'peri', 'pop_2023_sum', 'empl_2022_sum']]\n",
        "\n",
        "# Combiner toutes les données dans un seul DataFrame Pandas\n",
        "combined_data = pd.concat([data_500m, data_1km, data_5km], ignore_index=True)\n",
        "\n",
        "# Remplacer les valeurs NaN par 0\n",
        "combined_data = combined_data.fillna(0)\n",
        "\n",
        "# Afficher le tableau final\n",
        "print(combined_data)\n",
        "\n",
        "# Sauvegarder le résultat final\n",
        "combined_data.to_csv(\"result_combined_data.csv\", index=False)\n"
      ],
      "metadata": {
        "colab": {
          "base_uri": "https://localhost:8080/",
          "height": 332
        },
        "id": "JKXtjLOkpudc",
        "outputId": "7a829254-c5dc-4a84-a579-077778d1a7ff"
      },
      "execution_count": null,
      "outputs": [
        {
          "output_type": "error",
          "ename": "NameError",
          "evalue": "name 'BBTOT' is not defined",
          "traceback": [
            "\u001b[0;31m---------------------------------------------------------------------------\u001b[0m",
            "\u001b[0;31mNameError\u001b[0m                                 Traceback (most recent call last)",
            "\u001b[0;32m<ipython-input-16-b05b201fd3b3>\u001b[0m in \u001b[0;36m<cell line: 26>\u001b[0;34m()\u001b[0m\n\u001b[1;32m     26\u001b[0m \u001b[0;32mfor\u001b[0m \u001b[0mbuffer_name\u001b[0m\u001b[0;34m,\u001b[0m \u001b[0mbuffer_gdf\u001b[0m \u001b[0;32min\u001b[0m \u001b[0mzi_buf_gdf\u001b[0m\u001b[0;34m.\u001b[0m\u001b[0mitems\u001b[0m\u001b[0;34m(\u001b[0m\u001b[0;34m)\u001b[0m\u001b[0;34m:\u001b[0m\u001b[0;34m\u001b[0m\u001b[0;34m\u001b[0m\u001b[0m\n\u001b[1;32m     27\u001b[0m     \u001b[0mbuffer_gdf\u001b[0m \u001b[0;34m=\u001b[0m \u001b[0mbuffer_gdf\u001b[0m\u001b[0;34m.\u001b[0m\u001b[0mcopy\u001b[0m\u001b[0;34m(\u001b[0m\u001b[0;34m)\u001b[0m  \u001b[0;31m# Evite les modifications inattendues\u001b[0m\u001b[0;34m\u001b[0m\u001b[0;34m\u001b[0m\u001b[0m\n\u001b[0;32m---> 28\u001b[0;31m     \u001b[0msjoin_summarize\u001b[0m\u001b[0;34m(\u001b[0m\u001b[0mbuffer_gdf\u001b[0m\u001b[0;34m,\u001b[0m \u001b[0mpopulation_gdf\u001b[0m\u001b[0;34m,\u001b[0m \u001b[0;34m'population'\u001b[0m\u001b[0;34m,\u001b[0m \u001b[0;34m'pop_2023_sum'\u001b[0m\u001b[0;34m)\u001b[0m\u001b[0;34m\u001b[0m\u001b[0;34m\u001b[0m\u001b[0m\n\u001b[0m\u001b[1;32m     29\u001b[0m     \u001b[0msjoin_summarize\u001b[0m\u001b[0;34m(\u001b[0m\u001b[0mbuffer_gdf\u001b[0m\u001b[0;34m,\u001b[0m \u001b[0memplois_gdf\u001b[0m\u001b[0;34m,\u001b[0m \u001b[0;34m'emplois'\u001b[0m\u001b[0;34m,\u001b[0m \u001b[0;34m'empl_2022_sum'\u001b[0m\u001b[0;34m)\u001b[0m\u001b[0;34m\u001b[0m\u001b[0;34m\u001b[0m\u001b[0m\n\u001b[1;32m     30\u001b[0m     \u001b[0mbuffer_gdf\u001b[0m\u001b[0;34m[\u001b[0m\u001b[0;34m'peri'\u001b[0m\u001b[0;34m]\u001b[0m \u001b[0;34m=\u001b[0m \u001b[0mbuffer_name\u001b[0m  \u001b[0;31m# Ajoute la colonne \"peri\"\u001b[0m\u001b[0;34m\u001b[0m\u001b[0;34m\u001b[0m\u001b[0m\n",
            "\u001b[0;32m<ipython-input-16-b05b201fd3b3>\u001b[0m in \u001b[0;36msjoin_summarize\u001b[0;34m(poly_lyr, pts_lyr, pts_colname, poly_newcolname)\u001b[0m\n\u001b[1;32m     19\u001b[0m     \"\"\"\n\u001b[1;32m     20\u001b[0m     \u001b[0msjoin\u001b[0m \u001b[0;34m=\u001b[0m \u001b[0mpts_lyr\u001b[0m\u001b[0;34m.\u001b[0m\u001b[0msjoin\u001b[0m\u001b[0;34m(\u001b[0m\u001b[0mpoly_lyr\u001b[0m\u001b[0;34m,\u001b[0m \u001b[0mhow\u001b[0m\u001b[0;34m=\u001b[0m\u001b[0;34m'inner'\u001b[0m\u001b[0;34m,\u001b[0m \u001b[0mpredicate\u001b[0m\u001b[0;34m=\u001b[0m\u001b[0;34m'within'\u001b[0m\u001b[0;34m)\u001b[0m\u001b[0;34m\u001b[0m\u001b[0;34m\u001b[0m\u001b[0m\n\u001b[0;32m---> 21\u001b[0;31m     \u001b[0msomme_par_poly\u001b[0m \u001b[0;34m=\u001b[0m \u001b[0msjoin\u001b[0m\u001b[0;34m.\u001b[0m\u001b[0mgroupby\u001b[0m\u001b[0;34m(\u001b[0m\u001b[0msjoin\u001b[0m\u001b[0;34m.\u001b[0m\u001b[0mindex_right\u001b[0m\u001b[0;34m)\u001b[0m\u001b[0;34m[\u001b[0m\u001b[0mBBTOT\u001b[0m\u001b[0;34m]\u001b[0m\u001b[0;34m.\u001b[0m\u001b[0msum\u001b[0m\u001b[0;34m(\u001b[0m\u001b[0;34m)\u001b[0m\u001b[0;34m\u001b[0m\u001b[0;34m\u001b[0m\u001b[0m\n\u001b[0m\u001b[1;32m     22\u001b[0m     \u001b[0mpoly_lyr\u001b[0m\u001b[0;34m[\u001b[0m\u001b[0mpoly_newcolname\u001b[0m\u001b[0;34m]\u001b[0m \u001b[0;34m=\u001b[0m \u001b[0mpoly_lyr\u001b[0m\u001b[0;34m.\u001b[0m\u001b[0mindex\u001b[0m\u001b[0;34m.\u001b[0m\u001b[0mmap\u001b[0m\u001b[0;34m(\u001b[0m\u001b[0msomme_par_poly\u001b[0m\u001b[0;34m)\u001b[0m\u001b[0;34m.\u001b[0m\u001b[0mfillna\u001b[0m\u001b[0;34m(\u001b[0m\u001b[0;36m0\u001b[0m\u001b[0;34m)\u001b[0m\u001b[0;34m\u001b[0m\u001b[0;34m\u001b[0m\u001b[0m\n\u001b[1;32m     23\u001b[0m \u001b[0;34m\u001b[0m\u001b[0m\n",
            "\u001b[0;31mNameError\u001b[0m: name 'BBTOT' is not defined"
          ]
        }
      ]
    }
  ],
  "metadata": {
    "colab": {
      "provenance": [],
      "include_colab_link": true
    },
    "kernelspec": {
      "display_name": "imports_TM",
      "language": "python",
      "name": "python3"
    },
    "language_info": {
      "name": "python",
      "version": "3.9.18"
    }
  },
  "nbformat": 4,
  "nbformat_minor": 0
}