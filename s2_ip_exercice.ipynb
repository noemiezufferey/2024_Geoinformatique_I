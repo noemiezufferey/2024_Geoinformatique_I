{
  "cells": [
    {
      "cell_type": "markdown",
      "metadata": {
        "id": "view-in-github",
        "colab_type": "text"
      },
      "source": [
        "<a href=\"https://colab.research.google.com/github/noemiezufferey/2024_Geoinformatique_I/blob/main/s2_ip_exercice.ipynb\" target=\"_parent\"><img src=\"https://colab.research.google.com/assets/colab-badge.svg\" alt=\"Open In Colab\"/></a>"
      ]
    },
    {
      "cell_type": "markdown",
      "metadata": {
        "id": "ZXnjONpwCaJ5"
      },
      "source": [
        "# Exercice 2 - Structure de contrôle"
      ]
    },
    {
      "cell_type": "markdown",
      "metadata": {
        "id": "OyMIBjQrCaJ6"
      },
      "source": [
        "## Conditions if, else, elif"
      ]
    },
    {
      "cell_type": "markdown",
      "metadata": {
        "id": "caKuJ59zjW39"
      },
      "source": [
        "**1. Vérification de la parité**"
      ]
    },
    {
      "cell_type": "code",
      "execution_count": null,
      "metadata": {
        "id": "wkrwV1yvjW3-",
        "colab": {
          "base_uri": "https://localhost:8080/"
        },
        "outputId": "602611ff-c8b0-4895-c16d-4aeaf763af37"
      },
      "outputs": [
        {
          "output_type": "stream",
          "name": "stdout",
          "text": [
            "Pair\n"
          ]
        }
      ],
      "source": [
        "# Ecrivez votre code ici\n",
        "nombre = 6 #Entrez un nombre entier\n",
        "\n",
        "if nombre % 2 == 0 :\n",
        "    print(\"Pair\")\n",
        "else:\n",
        "    print(\"Impaire\")"
      ]
    },
    {
      "cell_type": "markdown",
      "metadata": {
        "id": "b1goU-5bjW3_"
      },
      "source": [
        "**2. Comparaison de deux nombres**"
      ]
    },
    {
      "cell_type": "code",
      "execution_count": null,
      "metadata": {
        "id": "SkjaBcb-jW3_",
        "colab": {
          "base_uri": "https://localhost:8080/"
        },
        "outputId": "1018e039-6b26-4162-dcaa-937a37e50c42"
      },
      "outputs": [
        {
          "output_type": "stream",
          "name": "stdout",
          "text": [
            "Le premier nombre est plus grand.\n"
          ]
        }
      ],
      "source": [
        "nombre1 = 7.2 #Entrez un chiffre à virgule\n",
        "nombre2 = 3.8 #Entrez un deuxième chiffre à virgule\n",
        "\n",
        "if nombre1 > nombre2:\n",
        "    print(\"Le premier nombre est plus grand.\")\n",
        "elif nombre2 > nombre1 :\n",
        "    print(\"Le deuxième nombre est plus grand.\")\n",
        "else: #nombre1==nombre2\n",
        "    print(\"Les deux nombres sont égaux\")"
      ]
    },
    {
      "cell_type": "markdown",
      "metadata": {
        "id": "gkNLNNSNjW3_"
      },
      "source": [
        "**3. Catégorisation d'âges**"
      ]
    },
    {
      "cell_type": "code",
      "execution_count": null,
      "metadata": {
        "id": "h1AnFjiKjW4A",
        "colab": {
          "base_uri": "https://localhost:8080/"
        },
        "outputId": "06469749-a47a-49a9-e372-72cc246bb64d"
      },
      "outputs": [
        {
          "output_type": "stream",
          "name": "stdout",
          "text": [
            "Adulte\n"
          ]
        }
      ],
      "source": [
        "age = 20 # Entrez un nombre entier\n",
        "if age < 12:\n",
        "    print(\"Enfant\")\n",
        "elif 12 <= age < 18:\n",
        "    print(\"Adolescent\")\n",
        "elif 18 <= age < 65:\n",
        "    print(\"Adulte\")\n",
        "else: #age>= 65\n",
        "    print(\"Senior\")\n"
      ]
    },
    {
      "cell_type": "code",
      "source": [
        "# Exercice révisions\n",
        "Moyenne = 10\n",
        "if Moyenne < 10:\n",
        "    print(\"Recalé\")\n",
        "elif 10 <= Moyenne < 12:\n",
        "    print (\"Passable\")\n",
        "elif 12 <= Moyenne < 14:\n",
        "    print (\"Assez bien\")\n",
        "elif 14 <= Moyenne < 16:\n",
        "    print (\"Bien\")\n",
        "elif 16 <= Moyenne <= 20:\n",
        "    print (\"Très bien\")"
      ],
      "metadata": {
        "id": "g4oiDQCnVB1J",
        "outputId": "5942b6b4-9a48-41c5-df61-4e3491c22d9f",
        "colab": {
          "base_uri": "https://localhost:8080/"
        }
      },
      "execution_count": null,
      "outputs": [
        {
          "output_type": "stream",
          "name": "stdout",
          "text": [
            "Passable\n"
          ]
        }
      ]
    },
    {
      "cell_type": "code",
      "source": [],
      "metadata": {
        "id": "c2iK7giVV7th"
      },
      "execution_count": null,
      "outputs": []
    },
    {
      "cell_type": "markdown",
      "metadata": {
        "id": "agjI6dl_CaJ7"
      },
      "source": [
        "## Boucle for et while"
      ]
    },
    {
      "cell_type": "markdown",
      "metadata": {
        "id": "jbGswyVvjW4A"
      },
      "source": [
        "**1. Ecrire une boucle `while` pour afficher les valeurs des classements d'une liste de lecture d'albums stockée dans la liste <code>PlayListRatings</code>. Si le score est inférieur à 6, on sort de la boucle. La liste <code>PlayListRatings</code> est donnée par : <code>PlayListRatings = [10, 9.5, 10, 8, 7.5, 5, 10, 10]</code>**"
      ]
    },
    {
      "cell_type": "code",
      "execution_count": null,
      "metadata": {
        "id": "ploHyFu2jW4A",
        "colab": {
          "base_uri": "https://localhost:8080/"
        },
        "outputId": "d6c9fbd5-ea5c-4cbc-e17b-50e62ecbb2d8"
      },
      "outputs": [
        {
          "output_type": "stream",
          "name": "stdout",
          "text": [
            "10\n",
            "9.5\n",
            "10\n",
            "8\n",
            "7.5\n"
          ]
        }
      ],
      "source": [
        "# Ecrivez votre code ici\n",
        "PlayListRating = [10, 9.5, 10, 8, 7.5, 5, 10, 10]\n",
        "\n",
        "# Astuce : Utilisez l'indexation de la liste comme critère (longueur de votre liste)\n",
        "indx = 0\n",
        "while indx<len(PlayListRating):\n",
        "  if PlayListRating[indx]<6:\n",
        "    break\n",
        "  else:\n",
        "    print(PlayListRating[indx])\n",
        "  indx +=1"
      ]
    },
    {
      "cell_type": "markdown",
      "metadata": {
        "id": "WHXaD4_3jW4A"
      },
      "source": [
        "**2. Répétez ce que vous venez de faire, cette fois en utilisant une boucle `for`**."
      ]
    },
    {
      "cell_type": "code",
      "execution_count": null,
      "metadata": {
        "id": "CIgtC_4zjW4A",
        "colab": {
          "base_uri": "https://localhost:8080/"
        },
        "outputId": "2afd6dad-9b4f-4fbf-bfdb-9ee9c458cd9b"
      },
      "outputs": [
        {
          "output_type": "stream",
          "name": "stdout",
          "text": [
            "10\n",
            "9.5\n",
            "10\n",
            "8\n",
            "7.5\n"
          ]
        }
      ],
      "source": [
        "for indx in range(len(PlayListRating)):\n",
        "  if PlayListRating[indx]<6:\n",
        "    break\n",
        "  else:\n",
        "    print(PlayListRating[indx])"
      ]
    },
    {
      "cell_type": "markdown",
      "metadata": {
        "id": "VZQhdaf5jW4B"
      },
      "source": [
        "**3. Ecrivez une boucle `for` qui imprime (affiche) la liste suivante : <code>carres=['rouge', 'jaune', 'vert', 'violet', 'bleu']</code>**"
      ]
    },
    {
      "cell_type": "code",
      "execution_count": null,
      "metadata": {
        "id": "kh8TmInPjW4B",
        "colab": {
          "base_uri": "https://localhost:8080/",
          "height": 245
        },
        "outputId": "ef60d556-c0e4-4ee8-eb2f-447ed78597d4"
      },
      "outputs": [
        {
          "output_type": "error",
          "ename": "AttributeError",
          "evalue": "'str' object has no attribute 'append'",
          "traceback": [
            "\u001b[0;31m---------------------------------------------------------------------------\u001b[0m",
            "\u001b[0;31mAttributeError\u001b[0m                            Traceback (most recent call last)",
            "\u001b[0;32m<ipython-input-7-62c7e94db5ef>\u001b[0m in \u001b[0;36m<cell line: 2>\u001b[0;34m()\u001b[0m\n\u001b[1;32m      1\u001b[0m \u001b[0mcarres\u001b[0m \u001b[0;34m=\u001b[0m \u001b[0;34m[\u001b[0m\u001b[0;34m'rouge'\u001b[0m\u001b[0;34m,\u001b[0m \u001b[0;34m'jaune'\u001b[0m\u001b[0;34m,\u001b[0m \u001b[0;34m'vert'\u001b[0m\u001b[0;34m,\u001b[0m \u001b[0;34m'violet'\u001b[0m\u001b[0;34m,\u001b[0m \u001b[0;34m'bleu'\u001b[0m\u001b[0;34m]\u001b[0m \u001b[0;31m# An empty list\u001b[0m\u001b[0;34m\u001b[0m\u001b[0;34m\u001b[0m\u001b[0m\n\u001b[1;32m      2\u001b[0m \u001b[0;32mfor\u001b[0m \u001b[0mindex\u001b[0m \u001b[0;34m,\u001b[0m\u001b[0mcarres\u001b[0m \u001b[0;32min\u001b[0m \u001b[0menumerate\u001b[0m\u001b[0;34m(\u001b[0m\u001b[0;34m[\u001b[0m\u001b[0;34m'rouge'\u001b[0m\u001b[0;34m,\u001b[0m \u001b[0;34m'jaune'\u001b[0m\u001b[0;34m,\u001b[0m \u001b[0;34m'vert'\u001b[0m\u001b[0;34m,\u001b[0m \u001b[0;34m'violet'\u001b[0m\u001b[0;34m,\u001b[0m \u001b[0;34m'bleu'\u001b[0m\u001b[0;34m]\u001b[0m\u001b[0;34m)\u001b[0m\u001b[0;34m:\u001b[0m\u001b[0;34m\u001b[0m\u001b[0;34m\u001b[0m\u001b[0m\n\u001b[0;32m----> 3\u001b[0;31m   \u001b[0mcarres\u001b[0m\u001b[0;34m.\u001b[0m\u001b[0mappend\u001b[0m\u001b[0;34m(\u001b[0m\u001b[0mstr\u001b[0m\u001b[0;34m)\u001b[0m \u001b[0;31m# Here you add (append) the elements one by one to the empty list\u001b[0m\u001b[0;34m\u001b[0m\u001b[0;34m\u001b[0m\u001b[0m\n\u001b[0m\u001b[1;32m      4\u001b[0m \u001b[0;34m\u001b[0m\u001b[0m\n\u001b[1;32m      5\u001b[0m \u001b[0mprint\u001b[0m\u001b[0;34m(\u001b[0m\u001b[0mcarres\u001b[0m\u001b[0;34m)\u001b[0m\u001b[0;34m\u001b[0m\u001b[0;34m\u001b[0m\u001b[0m\n",
            "\u001b[0;31mAttributeError\u001b[0m: 'str' object has no attribute 'append'"
          ]
        }
      ],
      "source": [
        "carres = ['rouge', 'jaune', 'vert', 'violet', 'bleu'] # An empty list\n",
        "for index ,carres in enumerate(['rouge', 'jaune', 'vert', 'violet', 'bleu']):\n",
        "  carres.append(str) # Here you add (append) the elements one by one to the empty list\n",
        "\n",
        "print(carres)"
      ]
    },
    {
      "cell_type": "code",
      "source": [],
      "metadata": {
        "id": "TqgrrKf6FcUq"
      },
      "execution_count": null,
      "outputs": []
    },
    {
      "cell_type": "code",
      "source": [
        "import geopandas as gpd\n",
        "from shapely.ops import unary_union\n",
        "from shapely.geometry import Polygon\n",
        "import matplotlib.pyplot as plt\n",
        "\n",
        "# Charger le GeoPackage\n",
        "path_to_geopackage = \"/content/geoinf-proj-ze-9933.gpkg\"  # Remplacez par le chemin de votre fichier\n",
        "layer_name = \"ze_9933\"  # Remplacez par le nom de votre couche\n",
        "\n",
        "gdf = gpd.read_file(path_to_geopackage, layer=layer_name)\n",
        "\n",
        "# Fusionner tous les polygones en une seule géométrie\n",
        "total_geometry = unary_union(gdf.geometry)\n",
        "\n",
        "# Créer des zones tampons pour 500 m, 1 km, et 5 km\n",
        "buffer_500m = total_geometry.buffer(500)\n",
        "buffer_1km = total_geometry.buffer(1000)\n",
        "buffer_5km = total_geometry.buffer(5000)\n",
        "\n",
        "# Calculer les différences pour obtenir les anneaux\n",
        "ring_1km = buffer_1km.difference(buffer_500m)\n",
        "ring_5km = buffer_5km.difference(buffer_1km)\n",
        "\n",
        "# Créer un GeoDataFrame pour chaque zone pour la visualisation\n",
        "gdf_500m = gpd.GeoDataFrame(geometry=[buffer_500m], crs=gdf.crs)\n",
        "gdf_1km_ring = gpd.GeoDataFrame(geometry=[ring_1km], crs=gdf.crs)\n",
        "gdf_5km_ring = gpd.GeoDataFrame(geometry=[ring_5km], crs=gdf.crs)\n",
        "\n",
        "# Visualiser les résultats\n",
        "fig, ax = plt.subplots(figsize=(10, 10))\n",
        "gdf_5km_ring.plot(ax=ax, color=\"lightgreen\", edgecolor=\"black\", label=\"5 km\")\n",
        "gdf_1km_ring.plot(ax=ax, color=\"lightblue\", edgecolor=\"black\", label=\"1 km\")\n",
        "gdf_500m.plot(ax=ax, color=\"lightcoral\", edgecolor=\"black\", label=\"500 m\")\n",
        "\n",
        "# Afficher la zone industrielle originale\n",
        "gdf.boundary.plot(ax=ax, color=\"brown\", linewidth=1, label=\"Zone industrielle\")\n",
        "\n",
        "plt.legend()\n",
        "plt.title(\"Zones tampons autour de la zone industrielle\")\n",
        "plt.show()\n",
        "\n",
        "# Sauvegarder les résultats dans un fichier GeoPackage\n",
        "gdf_500m.to_file(\"buffer_500m.gpkg\", driver=\"GPKG\")\n",
        "gdf_1km_ring.to_file(\"buffer_1km_ring.gpkg\", driver=\"GPKG\")\n",
        "gdf_5km_ring.to_file(\"buffer_5km_ring.gpkg\", driver=\"GPKG\")"
      ],
      "metadata": {
        "colab": {
          "base_uri": "https://localhost:8080/",
          "height": 736
        },
        "id": "AjIoVu4aFcF2",
        "outputId": "1c3940c0-507f-415a-8dcf-6a4a5e3e8e2b"
      },
      "execution_count": null,
      "outputs": [
        {
          "output_type": "stream",
          "name": "stderr",
          "text": [
            "<ipython-input-8-2606bec33abd>:38: UserWarning: Legend does not support handles for PatchCollection instances.\n",
            "See: https://matplotlib.org/stable/tutorials/intermediate/legend_guide.html#implementing-a-custom-legend-handler\n",
            "  plt.legend()\n"
          ]
        },
        {
          "output_type": "display_data",
          "data": {
            "text/plain": [
              "<Figure size 1000x1000 with 1 Axes>"
            ],
            "image/png": "[encoded data removed]"
          },
          "metadata": {}
        }
      ]
    },
    {
      "cell_type": "code",
      "source": [
        "# Recherche du nom de la couche dans le geopackage\n",
        "!pip install fiona\n",
        "import fiona\n",
        "path_to_geopackage = \"/content/geoinf-proj-ze-9933.gpkg\"  # Remplacez par le chemin de votre fichier\n",
        "print(fiona.listlayers(path_to_geopackage))\n"
      ],
      "metadata": {
        "collapsed": true,
        "colab": {
          "base_uri": "https://localhost:8080/"
        },
        "id": "OI2Nw7GVHrUR",
        "outputId": "884a5a69-aedb-4070-ec2f-d09715e06902"
      },
      "execution_count": null,
      "outputs": [
        {
          "output_type": "stream",
          "name": "stdout",
          "text": [
            "Collecting fiona\n",
            "  Downloading fiona-1.10.1-cp310-cp310-manylinux_2_17_x86_64.manylinux2014_x86_64.whl.metadata (56 kB)\n",
            "\u001b[?25l     \u001b[90m━━━━━━━━━━━━━━━━━━━━━━━━━━━━━━━━━━━━━━━━\u001b[0m \u001b[32m0.0/56.6 kB\u001b[0m \u001b[31m?\u001b[0m eta \u001b[36m-:--:--\u001b[0m\r\u001b[2K     \u001b[90m━━━━━━━━━━━━━━━━━━━━━━━━━━━━━━━━━━━━━━━━\u001b[0m \u001b[32m56.6/56.6 kB\u001b[0m \u001b[31m2.3 MB/s\u001b[0m eta \u001b[36m0:00:00\u001b[0m\n",
            "\u001b[?25hRequirement already satisfied: attrs>=19.2.0 in /usr/local/lib/python3.10/dist-packages (from fiona) (24.2.0)\n",
            "Requirement already satisfied: certifi in /usr/local/lib/python3.10/dist-packages (from fiona) (2024.8.30)\n",
            "Requirement already satisfied: click~=8.0 in /usr/local/lib/python3.10/dist-packages (from fiona) (8.1.7)\n",
            "Collecting click-plugins>=1.0 (from fiona)\n",
            "  Downloading click_plugins-1.1.1-py2.py3-none-any.whl.metadata (6.4 kB)\n",
            "Collecting cligj>=0.5 (from fiona)\n",
            "  Downloading cligj-0.7.2-py3-none-any.whl.metadata (5.0 kB)\n",
            "Downloading fiona-1.10.1-cp310-cp310-manylinux_2_17_x86_64.manylinux2014_x86_64.whl (17.3 MB)\n",
            "\u001b[2K   \u001b[90m━━━━━━━━━━━━━━━━━━━━━━━━━━━━━━━━━━━━━━━━\u001b[0m \u001b[32m17.3/17.3 MB\u001b[0m \u001b[31m73.2 MB/s\u001b[0m eta \u001b[36m0:00:00\u001b[0m\n",
            "\u001b[?25hDownloading click_plugins-1.1.1-py2.py3-none-any.whl (7.5 kB)\n",
            "Downloading cligj-0.7.2-py3-none-any.whl (7.1 kB)\n",
            "Installing collected packages: cligj, click-plugins, fiona\n",
            "Successfully installed click-plugins-1.1.1 cligj-0.7.2 fiona-1.10.1\n",
            "['ze_9933']\n"
          ]
        }
      ]
    },
    {
      "cell_type": "code",
      "source": [
        "import fiona\n",
        "\n",
        "# Chemin vers votre fichier GeoPackage\n",
        "path_to_geopackage = \"/content/swissBOUNDARIES3D_1_5_LV95_LN02.gpkg\"\n",
        "\n",
        "# Obtenir et afficher la liste des couches\n",
        "layers = fiona.listlayers(path_to_geopackage)\n",
        "print(\"Couches disponibles dans le GeoPackage :\")\n",
        "for layer in layers:\n",
        "    print(layer)\n"
      ],
      "metadata": {
        "colab": {
          "base_uri": "https://localhost:8080/"
        },
        "id": "pCOoCtdkLwlc",
        "outputId": "932d6ad8-1327-4626-96ab-39c725a82bae"
      },
      "execution_count": null,
      "outputs": [
        {
          "output_type": "stream",
          "name": "stdout",
          "text": [
            "Couches disponibles dans le GeoPackage :\n",
            "tlm_hoheitsgrenze\n",
            "tlm_hoheitsgebiet\n",
            "tlm_bezirksgebiet\n",
            "tlm_landesgebiet\n",
            "tlm_kantonsgebiet\n"
          ]
        }
      ]
    },
    {
      "cell_type": "code",
      "source": [
        "import geopandas as gpd\n",
        "\n",
        "# Charger le geopackage et la couche spécifiée\n",
        "gpkg_path = \"/content/swissBOUNDARIES3D_1_5_LV95_LN02.gpkg\"\n",
        "layer_name = \"tlm_hoheitsgebiet\"\n",
        "\n",
        "# Charger la couche dans un GeoDataFrame\n",
        "gdf = gpd.read_file(gpkg_path, layer=layer_name)\n",
        "\n",
        "# Afficher les colonnes du GeoDataFrame\n",
        "print(gdf.columns)\n"
      ],
      "metadata": {
        "colab": {
          "base_uri": "https://localhost:8080/"
        },
        "id": "nk8WPHsQN3Dz",
        "outputId": "360eb226-aac0-486e-c6cf-e09715918f65"
      },
      "execution_count": null,
      "outputs": [
        {
          "output_type": "stream",
          "name": "stdout",
          "text": [
            "Index(['uuid', 'datum_aenderung', 'datum_erstellung', 'erstellung_jahr',\n",
            "       'erstellung_monat', 'grund_aenderung', 'herkunft', 'herkunft_jahr',\n",
            "       'herkunft_monat', 'revision_jahr', 'revision_monat',\n",
            "       'revision_qualitaet', 'objektart', 'bfs_nummer', 'bezirksnummer',\n",
            "       'kantonsnummer', 'name', 'gem_flaeche', 'see_flaeche', 'icc', 'shn',\n",
            "       'einwohnerzahl', 'hist_nr', 'geometry'],\n",
            "      dtype='object')\n"
          ]
        }
      ]
    },
    {
      "cell_type": "code",
      "source": [
        "# Créer un dictionnaire pour les zones tampons\n",
        "zi_buf = {\n",
        "    '500m': buffer_500m,\n",
        "    '1km': ring_1km,\n",
        "    '5km': ring_5km\n",
        "}\n",
        "\n",
        "# Convertir les géométries brutes en GeoDataFrames\n",
        "zi_buf_gdf = {\n",
        "    k: gpd.GeoDataFrame(geometry=[poly], crs=gdf.crs)\n",
        "    for k, poly in zi_buf.items()\n",
        "}\n",
        "\n",
        "# Charger les données des communes (remplacer 'communes_file' par votre fichier réel)\n",
        "communes_file = \"/content/swissBOUNDARIES3D_1_5_LV95_LN02.gpkg\"  # Remplacez par le chemin de votre fichier des communes\n",
        "communes_layer_name = \"tlm_hoheitsgebiet\"  # Remplacez par le nom exact de la couche souhaitée\n",
        "communes_gdf = gpd.read_file(communes_file, layer=communes_layer_name)\n",
        "\n",
        "\n",
        "# Calculer l'intersection entre les zones tampons et les communes\n",
        "zi_buf_cmnes = {\n",
        "    k: gpd.overlay(gdf, communes_gdf, how='intersection')\n",
        "    for k, gdf in zi_buf_gdf.items()\n",
        "}\n",
        "\n",
        "# Fonction pour inspecter et visualiser les résultats\n",
        "def inspect_result(buffer_name):\n",
        "    print(f\"Inspection de la zone tampon {buffer_name}:\")\n",
        "    print(\"Avant intersection:\")\n",
        "    print(zi_buf_gdf[buffer_name])\n",
        "    print(\"Après intersection:\")\n",
        "    print(zi_buf_cmnes[buffer_name])\n",
        "    print(\"Affichage graphique:\")\n",
        "    zi_buf_cmnes[buffer_name].plot()\n",
        "    plt.title(f\"Intersection de la zone tampon {buffer_name}\")\n",
        "    plt.show()\n",
        "\n",
        "# Exemple: inspection de la zone tampon de 500m\n",
        "inspect_result('500m')\n",
        "\n",
        "# Compter le nombre de personnes par commune pour chaque zone tampon (suppose une colonne 'population')\n",
        "population_counts = {\n",
        "    k: gdf.groupby('name')['einwohnerzahl'].sum()\n",
        "    for k, gdf in zi_buf_cmnes.items()\n",
        "}\n",
        "\n",
        "# Afficher les résultats\n",
        "for buffer_name, counts in population_counts.items():\n",
        "    print(f\"Population par commune pour la zone tampon {buffer_name}:\")\n",
        "    print(counts)\n",
        "\n",
        "# Sauvegarder les résultats\n",
        "for buffer_name, gdf in zi_buf_cmnes.items():\n",
        "    output_file = f\"buffer_{buffer_name}_intersect.gpkg\"\n",
        "    gdf.to_file(output_file, driver=\"GPKG\")\n"
      ],
      "metadata": {
        "colab": {
          "base_uri": "https://localhost:8080/",
          "height": 1000
        },
        "id": "r_OwlHDLIMk3",
        "outputId": "42316ce2-c650-4566-ee4d-f2d4f452f41d"
      },
      "execution_count": null,
      "outputs": [
        {
          "output_type": "stream",
          "name": "stdout",
          "text": [
            "Inspection de la zone tampon 500m:\n",
            "Avant intersection:\n",
            "                                            geometry\n",
            "0  POLYGON ((2537392.533 1158432.649, 2537398.342...\n",
            "Après intersection:\n",
            "                                     uuid datum_aenderung datum_erstellung  \\\n",
            "0  {711AB9D3-BE76-4DF6-BB85-AF8BA3EE531C}      2023-11-08       2008-11-24   \n",
            "1  {FA8F5DEB-65A9-45CF-9510-3BC84A782842}      2023-10-24       2008-11-24   \n",
            "2  {C47941E0-223D-4A70-A15E-DD8489E301D4}      2023-10-24       2008-11-24   \n",
            "3  {5E6836AB-0BCD-473E-8323-C69E1604F0E3}      2023-10-24       2008-11-24   \n",
            "\n",
            "   erstellung_jahr  erstellung_monat grund_aenderung   herkunft  \\\n",
            "0             2006                 1      Verbessert  swisstopo   \n",
            "1             2006                 1      Verbessert  swisstopo   \n",
            "2             2006                 1      Verbessert  swisstopo   \n",
            "3             2006                 1      Verbessert  swisstopo   \n",
            "\n",
            "   herkunft_jahr  herkunft_monat  revision_jahr  ...  bezirksnummer  \\\n",
            "0           2024               1           2024  ...         2223.0   \n",
            "1           2024               1           2024  ...         2225.0   \n",
            "2           2024               1           2024  ...         2223.0   \n",
            "3           2024               1           2024  ...         2225.0   \n",
            "\n",
            "  kantonsnummer                  name  gem_flaeche  see_flaeche  icc  \\\n",
            "0          22.0          Morrens (VD)        367.0          0.0   CH   \n",
            "1          22.0              Lausanne       6763.0       2626.0   CH   \n",
            "2          22.0             Cugy (VD)        291.0          0.0   CH   \n",
            "3          22.0  Le Mont-sur-Lausanne        980.0          0.0   CH   \n",
            "\n",
            "          shn  einwohnerzahl  hist_nr  \\\n",
            "0  CH22235527           1172  14687.0   \n",
            "1  CH22255586         141418  14649.0   \n",
            "2  CH22235516           2696  14825.0   \n",
            "3  CH22255587           9291  14647.0   \n",
            "\n",
            "                                            geometry  \n",
            "0  MULTIPOLYGON Z (((2537578.769 1159049.235 661....  \n",
            "1  POLYGON Z ((2537398.342 1158479.615 581.751, 2...  \n",
            "2  POLYGON Z ((2538137.93 1159434.336 667.153, 25...  \n",
            "3  POLYGON Z ((2538686.773 1158293.56 698.216, 25...  \n",
            "\n",
            "[4 rows x 24 columns]\n",
            "Affichage graphique:\n"
          ]
        },
        {
          "output_type": "display_data",
          "data": {
            "text/plain": [
              "<Figure size 640x480 with 1 Axes>"
            ],
            "image/png": "[encoded data removed]"
          },
          "metadata": {}
        },
        {
          "output_type": "stream",
          "name": "stdout",
          "text": [
            "Population par commune pour la zone tampon 500m:\n",
            "name\n",
            "Cugy (VD)                 2696\n",
            "Lausanne                141418\n",
            "Le Mont-sur-Lausanne      9291\n",
            "Morrens (VD)              1172\n",
            "Name: einwohnerzahl, dtype: int32\n",
            "Population par commune pour la zone tampon 1km:\n",
            "name\n",
            "Cugy (VD)                 2696\n",
            "Lausanne                141418\n",
            "Le Mont-sur-Lausanne      9291\n",
            "Morrens (VD)              1172\n",
            "Romanel-sur-Lausanne      3788\n",
            "Name: einwohnerzahl, dtype: int32\n",
            "Population par commune pour la zone tampon 5km:\n",
            "name\n",
            "Assens                     1672\n",
            "Bottens                    1351\n",
            "Boussens                   1006\n",
            "Bretigny-sur-Morrens        877\n",
            "Bussigny                  10365\n",
            "Cheseaux-sur-Lausanne      4517\n",
            "Crissier                   9181\n",
            "Cugy (VD)                  2696\n",
            "Epalinges                  9822\n",
            "Etagnières                 1147\n",
            "Froideville                2722\n",
            "Jouxtens-Mézery            1468\n",
            "Lausanne                 141418\n",
            "Le Mont-sur-Lausanne       9291\n",
            "Mex (VD)                    818\n",
            "Morrens (VD)               1172\n",
            "Prilly                    12294\n",
            "Renens (VD)               21086\n",
            "Romanel-sur-Lausanne       3788\n",
            "Sullens                    1168\n",
            "Villars-Sainte-Croix        982\n",
            "Name: einwohnerzahl, dtype: int32\n"
          ]
        }
      ]
    },
    {
      "cell_type": "code",
      "source": [
        "import geopandas as gpd\n",
        "import fiona\n",
        "\n",
        "# Chemin vers votre GeoPackage\n",
        "path_to_geopackage = \"/content/ofs_geostat.gpkg\"  # Remplacez par le chemin de votre fichier\n",
        "\n",
        "# Lister les couches disponibles dans le GeoPackage\n",
        "layers = fiona.listlayers(path_to_geopackage)\n",
        "\n",
        "# Afficher les noms des couches\n",
        "print(\"Couches disponibles dans le GeoPackage :\")\n",
        "for layer in layers:\n",
        "    print(layer)\n"
      ],
      "metadata": {
        "colab": {
          "base_uri": "https://localhost:8080/"
        },
        "id": "qI2poJ5YqG-l",
        "outputId": "e37aa913-2a80-479e-94ce-a79b40efbdca"
      },
      "execution_count": null,
      "outputs": [
        {
          "output_type": "stream",
          "name": "stdout",
          "text": [
            "Couches disponibles dans le GeoPackage :\n",
            "ofs_geostat\n",
            "pop_2023\n",
            "empl_2022\n"
          ]
        }
      ]
    },
    {
      "cell_type": "code",
      "source": [
        "import geopandas as gpd\n",
        "import fiona\n",
        "\n",
        "# Chemin vers votre GeoPackage\n",
        "path_to_geopackage = \"/content/ofs_geostat.gpkg\"  # Remplacez par le chemin de votre fichier\n",
        "\n",
        "# Lister les couches disponibles dans le GeoPackage\n",
        "layers = fiona.listlayers(path_to_geopackage)\n",
        "\n",
        "# Afficher les noms des couches\n",
        "print(\"Couches disponibles dans le GeoPackage :\")\n",
        "for layer in layers:\n",
        "    print(layer)\n",
        "\n",
        "    # Charger la couche pour lire ses colonnes\n",
        "    gdf = gpd.read_file(path_to_geopackage, layer=layer)\n",
        "    print(f\"Colonnes dans la couche {layer} :\")\n",
        "    print(gdf.columns.tolist())\n"
      ],
      "metadata": {
        "colab": {
          "base_uri": "https://localhost:8080/"
        },
        "id": "pUwbi8IBtmtz",
        "outputId": "771d9bd7-1589-44a5-c4b3-85aaef2a0007"
      },
      "execution_count": null,
      "outputs": [
        {
          "output_type": "stream",
          "name": "stdout",
          "text": [
            "Couches disponibles dans le GeoPackage :\n",
            "ofs_geostat\n",
            "Colonnes dans la couche ofs_geostat :\n",
            "['geometry']\n",
            "pop_2023\n",
            "Colonnes dans la couche pop_2023 :\n",
            "['E_KOORD', 'N_KOORD', 'BBTOT', 'geometry']\n",
            "empl_2022\n",
            "Colonnes dans la couche empl_2022 :\n",
            "['E_KOORD', 'N_KOORD', 'B08EMPT', 'geometry']\n"
          ]
        }
      ]
    },
    {
      "cell_type": "code",
      "source": [
        "# Convertir les colonnes BBTOT et B08EMPT\n",
        "population_gdf['BBTOT'] = pd.to_numeric(population_gdf['BBTOT'], errors='coerce')\n",
        "emplois_gdf['B08EMPT'] = pd.to_numeric(emplois_gdf['B08EMPT'], errors='coerce')\n"
      ],
      "metadata": {
        "id": "ALSqrjT3ScEU"
      },
      "execution_count": null,
      "outputs": []
    },
    {
      "cell_type": "code",
      "source": [
        "import geopandas as gpd\n",
        "import fiona\n",
        "import pandas as pd\n",
        "\n",
        "# Chemin vers votre GeoPackage\n",
        "path_to_geopackage = \"/content/ofs_geostat.gpkg\"  # Remplacez par le chemin de votre fichier\n",
        "\n",
        "# Charger les couches de population et d'emplois\n",
        "layer_population = \"pop_2023\"  # Remplacez par le nom de la couche population\n",
        "layer_emplois = \"empl_2022\"  # Remplacez par le nom de la couche emplois\n",
        "\n",
        "population_gdf = gpd.read_file(path_to_geopackage, layer=layer_population)\n",
        "emplois_gdf = gpd.read_file(path_to_geopackage, layer=layer_emplois)\n",
        "\n",
        "population_colname = \"BBTOT\"  # Remplacez par le nom réel de la colonne population\n",
        "emplois_colname = \"B08EMPT\"\n",
        "\n",
        "# Fonction pour faire une jointure spatiale et résumer les données\n",
        "def sjoin_summarize(poly_lyr, pts_lyr, pts_colname, poly_newcolname):\n",
        "    \"\"\"\n",
        "    Associe les points aux polygones via une jointure spatiale et calcule la somme d'une colonne.\n",
        "    \"\"\"\n",
        "    sjoin = pts_lyr.sjoin(poly_lyr, how='inner', predicate='within')\n",
        "    sjoin[pts_colname] = pd.to_numeric(sjoin[pts_colname], errors='coerce')\n",
        "    somme_par_poly = sjoin.groupby(sjoin.index_right)[pts_colname].sum()\n",
        "    poly_lyr[poly_newcolname] = poly_lyr.index.map(somme_par_poly).fillna(0)\n",
        "\n",
        "# Ajouter la somme des populations et des emplois à chaque zone tampon\n",
        "for buffer_name, buffer_gdf in zi_buf_gdf.items():\n",
        "    buffer_gdf = buffer_gdf.copy()  # Éviter les modifications inattendues sur l'original\n",
        "\n",
        "    # Assurez-vous que les noms des colonnes sont corrects ('Pop2023' et 'Empl2022' sont des exemples)\n",
        "    sjoin_summarize(buffer_gdf, population_gdf, 'BBTOT', '')  # Nom réel à remplacer\n",
        "    sjoin_summarize(buffer_gdf, emplois_gdf, 'B08EMPT', 'empl_2022_sum')  # Nom réel à remplacer\n",
        "\n",
        "    # Ajouter la colonne 'peri' indiquant la zone tampon\n",
        "    buffer_gdf['peri'] = buffer_name\n",
        "\n",
        "# Calcul des habitants et emplois pour chaque zone tampon\n",
        "zi_buf_collections = {}\n",
        "for buffer_name, buffer_gdf in zi_buf_gdf.items():\n",
        "    buffer_gdf = buffer_gdf.copy()  # Evite les modifications inattendues\n",
        "    sjoin_summarize(buffer_gdf,population_gdf,'BBTOT', 'pop_2023_sum')\n",
        "    sjoin_summarize(buffer_gdf,emplois_gdf,'B08EMPT', 'empl_2022_sum')\n",
        "    buffer_gdf['peri'] = buffer_name  # Ajoute la colonne \"peri\"\n",
        "    zi_buf_collections[buffer_name] = buffer_gdf\n",
        "\n",
        "# Extraction des colonnes nécessaires\n",
        "data_500m = zi_buf_collections['500m'][['geometry', 'pop_2023_sum', 'empl_2022_sum', 'peri']]\n",
        "data_1km = zi_buf_collections['1km'][['geometry', 'pop_2023_sum', 'empl_2022_sum', 'peri']]\n",
        "data_5km = zi_buf_collections['5km'][['geometry', 'pop_2023_sum', 'empl_2022_sum', 'peri']]\n",
        "\n",
        "# Combiner toutes les données dans un seul DataFrame Pandas\n",
        "combined_data = pd.concat([data_500m, data_1km, data_5km], ignore_index=True)\n",
        "\n",
        "# Remplacer les valeurs NaN par 0\n",
        "combined_data = combined_data.fillna(0)\n",
        "\n",
        "# Afficher le tableau final\n",
        "print(combined_data)\n",
        "\n",
        "# Sauvegarder le résultat final\n",
        "combined_data.to_csv(\"result_combined_data.csv\", index=False)\n"
      ],
      "metadata": {
        "colab": {
          "base_uri": "https://localhost:8080/"
        },
        "id": "JKXtjLOkpudc",
        "outputId": "6bd7e3cd-60fe-41f8-d088-c0e55b27695d"
      },
      "execution_count": null,
      "outputs": [
        {
          "output_type": "stream",
          "name": "stdout",
          "text": [
            "                                            geometry  pop_2023_sum  \\\n",
            "0  POLYGON ((2537392.533 1158432.649, 2537398.342...           607   \n",
            "1  POLYGON ((2536905.103 1158561.595, 2536926.079...          1165   \n",
            "2  POLYGON ((2541497.093 1154773.806, 2541152.472...        115183   \n",
            "\n",
            "   empl_2022_sum  peri  \n",
            "0           3762  500m  \n",
            "1            396   1km  \n",
            "2          51967   5km  \n"
          ]
        }
      ]
    },
    {
      "cell_type": "code",
      "source": [
        "combined_data_gdf = gpd.GeoDataFrame(combined_data, geometry='geometry')\n",
        "combined_data_gdf.plot()\n"
      ],
      "metadata": {
        "colab": {
          "base_uri": "https://localhost:8080/",
          "height": 480
        },
        "id": "pX-KrPtWUCfo",
        "outputId": "13f07246-649f-47b4-85bb-7a16b4efc3d3"
      },
      "execution_count": null,
      "outputs": [
        {
          "output_type": "execute_result",
          "data": {
            "text/plain": [
              "<Axes: >"
            ]
          },
          "metadata": {},
          "execution_count": 31
        },
        {
          "output_type": "display_data",
          "data": {
            "text/plain": [
              "<Figure size 640x480 with 1 Axes>"
            ],
            "image/png": "[encoded data removed]"
          },
          "metadata": {}
        }
      ]
    },
    {
      "cell_type": "code",
      "source": [
        "combined_data_gdf.to_file(\"result_combined_data.gpkg\", driver=\"GPKG\")\n"
      ],
      "metadata": {
        "id": "D_71EmNUUI6T"
      },
      "execution_count": null,
      "outputs": []
    },
    {
      "cell_type": "code",
      "source": [
        "# Code pour lister les colonnes\n",
        "for buffer_name, buffer_gdf in zi_buf_collections.items():\n",
        "    print(f\"Colonnes dans {buffer_name}: {buffer_gdf.columns.tolist()}\")\n"
      ],
      "metadata": {
        "colab": {
          "base_uri": "https://localhost:8080/"
        },
        "id": "jHXide3fRXVh",
        "outputId": "a09b9e7e-b5b8-43d0-83d0-5f84d2188850"
      },
      "execution_count": null,
      "outputs": [
        {
          "output_type": "stream",
          "name": "stdout",
          "text": [
            "Colonnes dans 500m: ['geometry', 'pop_2023_sum', 'empl_2022_sum', 'peri']\n",
            "Colonnes dans 1km: ['geometry', 'pop_2023_sum', 'empl_2022_sum', 'peri']\n",
            "Colonnes dans 5km: ['geometry', 'pop_2023_sum', 'empl_2022_sum', 'peri']\n"
          ]
        }
      ]
    },
    {
      "cell_type": "code",
      "source": [
        "# Contrôle des résultats de la jointure spatiale\n",
        "sjoin = population_gdf.sjoin(buffer_gdf, how='inner', predicate='within')\n",
        "print(sjoin.head())  # Affichez un échantillon pour vérifier la jointure\n"
      ],
      "metadata": {
        "colab": {
          "base_uri": "https://localhost:8080/"
        },
        "id": "v53eQBJaSmxz",
        "outputId": "2d9df65d-94cb-490f-d80f-0fe7205ba9db"
      },
      "execution_count": null,
      "outputs": [
        {
          "output_type": "stream",
          "name": "stdout",
          "text": [
            "        E_KOORD    N_KOORD BBTOT                 geometry  index_right  \\\n",
            "1690  2532900.0  1157800.0     5  POINT (2532900 1157800)            0   \n",
            "1691  2532900.0  1157900.0     7  POINT (2532900 1157900)            0   \n",
            "1692  2532900.0  1158600.0    12  POINT (2532900 1158600)            0   \n",
            "1693  2532900.0  1158700.0     5  POINT (2532900 1158700)            0   \n",
            "1729  2533000.0  1157200.0     3  POINT (2533000 1157200)            0   \n",
            "\n",
            "                                           pop_2023_sum  \\\n",
            "1690  5712534035504031613531319322519111410125611335...   \n",
            "1691  5712534035504031613531319322519111410125611335...   \n",
            "1692  5712534035504031613531319322519111410125611335...   \n",
            "1693  5712534035504031613531319322519111410125611335...   \n",
            "1729  5712534035504031613531319322519111410125611335...   \n",
            "\n",
            "                                          empl_2022_sum peri  \n",
            "1690  2561664442332454101025184342078674444444571867...  5km  \n",
            "1691  2561664442332454101025184342078674444444571867...  5km  \n",
            "1692  2561664442332454101025184342078674444444571867...  5km  \n",
            "1693  2561664442332454101025184342078674444444571867...  5km  \n",
            "1729  2561664442332454101025184342078674444444571867...  5km  \n"
          ]
        }
      ]
    },
    {
      "cell_type": "code",
      "source": [
        "print(population_gdf[['BBTOT']].dtypes)  # Vérifier le type de colonne\n",
        "print(emplois_gdf[['B08EMPT']].dtypes)  # Vérifier le type de colonne"
      ],
      "metadata": {
        "colab": {
          "base_uri": "https://localhost:8080/"
        },
        "id": "-TD88yeUSTqZ",
        "outputId": "8ff3b882-9aac-4bdd-b494-77a52064ed58"
      },
      "execution_count": null,
      "outputs": [
        {
          "output_type": "stream",
          "name": "stdout",
          "text": [
            "BBTOT    object\n",
            "dtype: object\n",
            "B08EMPT    object\n",
            "dtype: object\n"
          ]
        }
      ]
    },
    {
      "cell_type": "code",
      "source": [
        "# Appliquer les formules pour calculer le nombre de personnes à différents moments\n",
        "combined_data['Njsem'] = 0.3 * combined_data['pop_2023_sum'] + 0.8 * combined_data['empl_2022_sum']\n",
        "combined_data['Nnsem'] = 0.9 * combined_data['pop_2023_sum'] + 0.05 * combined_data['empl_2022_sum']\n",
        "combined_data['Njwe'] = 0.6 * combined_data['pop_2023_sum'] + 0.05 * combined_data['empl_2022_sum']\n",
        "combined_data['Nnwe'] = combined_data['pop_2023_sum']  # Car Nnwe = P\n",
        "\n",
        "# Sauvegarder le DataFrame avec les nouvelles colonnes dans un fichier CSV\n",
        "combined_data.to_csv(\"personnes_par_peri_et_cmne.csv\", index=False)\n",
        "\n",
        "# Afficher un aperçu du DataFrame\n",
        "print(combined_data.head())\n"
      ],
      "metadata": {
        "colab": {
          "base_uri": "https://localhost:8080/"
        },
        "id": "0m_Gx8ZqWROe",
        "outputId": "cb19c70b-7f7e-4d45-dec2-34ef6a10b82f"
      },
      "execution_count": null,
      "outputs": [
        {
          "output_type": "stream",
          "name": "stdout",
          "text": [
            "                                            geometry  pop_2023_sum  \\\n",
            "0  POLYGON ((2537392.533 1158432.649, 2537398.342...           607   \n",
            "1  POLYGON ((2536905.103 1158561.595, 2536926.079...          1165   \n",
            "2  POLYGON ((2541497.093 1154773.806, 2541152.472...        115183   \n",
            "\n",
            "   empl_2022_sum  peri    Njsem      Nnsem      Njwe    Nnwe  \n",
            "0           3762  500m   3191.7     734.40    552.30     607  \n",
            "1            396   1km    666.3    1068.30    718.80    1165  \n",
            "2          51967   5km  76128.5  106263.05  71708.15  115183  \n"
          ]
        }
      ]
    },
    {
      "cell_type": "code",
      "source": [
        "# Sélectionner uniquement les colonnes numériques pour l'agrégation\n",
        "numerical_columns = ['pop_2023_sum', 'empl_2022_sum', 'Njsem', 'Nnsem', 'Njwe', 'Nnwe']\n",
        "\n",
        "# Agréger les données par zone tampon\n",
        "data_peri = combined_data[numerical_columns + ['peri']].groupby('peri', as_index=False).sum()\n",
        "\n",
        "# Sauvegarder les résultats agrégés dans un fichier CSV\n",
        "data_peri.to_csv(\"personnes_par_peri.csv\", index=False)\n",
        "\n",
        "# Afficher un aperçu du résultat\n",
        "print(data_peri.head())\n",
        "\n"
      ],
      "metadata": {
        "colab": {
          "base_uri": "https://localhost:8080/"
        },
        "id": "c94LQNgvXJcV",
        "outputId": "2bcf86c0-cae2-4471-8f0e-8b126552ce1f"
      },
      "execution_count": null,
      "outputs": [
        {
          "output_type": "stream",
          "name": "stdout",
          "text": [
            "   peri  pop_2023_sum  empl_2022_sum    Njsem      Nnsem      Njwe    Nnwe\n",
            "0   1km          1165            396    666.3    1068.30    718.80    1165\n",
            "1  500m           607           3762   3191.7     734.40    552.30     607\n",
            "2   5km        115183          51967  76128.5  106263.05  71708.15  115183\n"
          ]
        }
      ]
    },
    {
      "cell_type": "code",
      "source": [
        "# Charger les données des communes (si vous ne l'avez pas encore fait)\n",
        "communes_file = \"/content/swissBOUNDARIES3D_1_5_LV95_LN02.gpkg\"  # Remplacez par le chemin de votre fichier des communes\n",
        "communes_layer_name = \"tlm_hoheitsgebiet\"  # Remplacez par le nom exact de la couche souhaitée\n",
        "communes_gdf = gpd.read_file(communes_file, layer=communes_layer_name)\n",
        "\n",
        "# Effectuer la jointure spatiale entre les zones tampons et les communes\n",
        "# Nous utilisons 'sjoin' pour joindre les géométries des zones tampons avec les communes\n",
        "combined_data_with_communes = gpd.sjoin(combined_data, communes_gdf, how=\"left\", predicate=\"within\")\n",
        "\n",
        "# Vérifiez que les colonnes de commune ont été ajoutées\n",
        "print(combined_data_with_communes.columns)\n",
        "\n",
        "# Agréger par commune\n",
        "# Supposons que les colonnes des communes sont 'bfs_nummer' et 'name' (ajustez les noms si nécessaire)\n",
        "data_cmne = combined_data_with_communes[numerical_columns + ['bfs_nummer', 'name']].groupby(['bfs_nummer', 'name'], as_index=False).sum()\n",
        "\n",
        "# Sauvegarder les résultats agrégés par commune dans un fichier CSV\n",
        "data_cmne.to_csv(\"personnes_par_cmne.csv\", index=False)\n",
        "\n",
        "# Afficher un aperçu du résultat\n",
        "print(data_cmne.head())\n"
      ],
      "metadata": {
        "colab": {
          "base_uri": "https://localhost:8080/"
        },
        "id": "tefbIl7SXwsU",
        "outputId": "f188597f-9f75-443a-c177-a50a1233bc8a"
      },
      "execution_count": null,
      "outputs": [
        {
          "output_type": "stream",
          "name": "stdout",
          "text": [
            "Index(['geometry', 'pop_2023_sum', 'empl_2022_sum', 'peri', 'Njsem', 'Nnsem',\n",
            "       'Njwe', 'Nnwe', 'index_right', 'uuid', 'datum_aenderung',\n",
            "       'datum_erstellung', 'erstellung_jahr', 'erstellung_monat',\n",
            "       'grund_aenderung', 'herkunft', 'herkunft_jahr', 'herkunft_monat',\n",
            "       'revision_jahr', 'revision_monat', 'revision_qualitaet', 'objektart',\n",
            "       'bfs_nummer', 'bezirksnummer', 'kantonsnummer', 'name', 'gem_flaeche',\n",
            "       'see_flaeche', 'icc', 'shn', 'einwohnerzahl', 'hist_nr'],\n",
            "      dtype='object')\n",
            "Empty DataFrame\n",
            "Columns: [bfs_nummer, name, pop_2023_sum, empl_2022_sum, Njsem, Nnsem, Njwe, Nnwe]\n",
            "Index: []\n"
          ]
        }
      ]
    },
    {
      "cell_type": "code",
      "source": [
        "# Ajouter les données de population et d'emplois aux zones tampons (500m, 1km, 5km)\n",
        "def add_data_to_buffer(buffer_gdf, population_gdf, emplois_gdf):\n",
        "    # Joindre les données de population aux zones tampons\n",
        "    sjoin_summarize(buffer_gdf, population_gdf, 'BBTOT', 'pop_2023_sum')\n",
        "\n",
        "    # Joindre les données d'emplois aux zones tampons\n",
        "    sjoin_summarize(buffer_gdf, emplois_gdf, 'B08EMPT', 'empl_2022_sum')\n",
        "\n",
        "# Appliquer cette fonction aux différentes zones tampons\n",
        "for buffer_name, buffer_gdf in zi_buf_gdf.items():\n",
        "    add_data_to_buffer(buffer_gdf, population_gdf, emplois_gdf)\n",
        "    buffer_gdf['peri'] = buffer_name  # Ajouter la colonne 'peri' indiquant la zone tampon\n",
        "\n",
        "# Vérifier les colonnes après l'ajout des données\n",
        "print(zi_buf_gdf['500m'].columns)\n",
        "print(zi_buf_gdf['1km'].columns)\n",
        "print(zi_buf_gdf['5km'].columns)\n"
      ],
      "metadata": {
        "colab": {
          "base_uri": "https://localhost:8080/"
        },
        "id": "gw3IvW4TY66a",
        "outputId": "789f2a3a-f164-453f-fd92-f6cfd8595a29"
      },
      "execution_count": null,
      "outputs": [
        {
          "output_type": "stream",
          "name": "stdout",
          "text": [
            "Index(['geometry', 'pop_2023_sum', 'empl_2022_sum', 'peri'], dtype='object')\n",
            "Index(['geometry', 'pop_2023_sum', 'empl_2022_sum', 'peri'], dtype='object')\n",
            "Index(['geometry', 'pop_2023_sum', 'empl_2022_sum', 'peri'], dtype='object')\n"
          ]
        }
      ]
    },
    {
      "cell_type": "code",
      "source": [
        "def calculate_people(buffer_gdf):\n",
        "    # Calcul des nouvelles colonnes avec les formules\n",
        "    buffer_gdf['Njsem'] = 0.3 * buffer_gdf['pop_2023_sum'] + 0.8 * buffer_gdf['empl_2022_sum']\n",
        "    buffer_gdf['Nnsem'] = 0.9 * buffer_gdf['pop_2023_sum'] + 0.05 * buffer_gdf['empl_2022_sum']\n",
        "    buffer_gdf['Njwe'] = 0.6 * buffer_gdf['pop_2023_sum'] + 0.05 * buffer_gdf['empl_2022_sum']\n",
        "    buffer_gdf['Nnwe'] = buffer_gdf['pop_2023_sum']  # Nnwe est égal à la population pour chaque zone tampon\n",
        "\n",
        "# Appliquer les calculs à chaque zone tampon\n",
        "for buffer_name, buffer_gdf in zi_buf_gdf.items():\n",
        "    calculate_people(buffer_gdf)\n",
        "\n",
        "# Vérifier les résultats\n",
        "print(zi_buf_gdf['500m'].head())\n"
      ],
      "metadata": {
        "colab": {
          "base_uri": "https://localhost:8080/"
        },
        "id": "QlUDrEL_Y-a8",
        "outputId": "1bff2d70-fe6c-4f7f-ef2e-31dfcc876f4a"
      },
      "execution_count": null,
      "outputs": [
        {
          "output_type": "stream",
          "name": "stdout",
          "text": [
            "                                            geometry  pop_2023_sum  \\\n",
            "0  POLYGON ((2537392.533 1158432.649, 2537398.342...           607   \n",
            "\n",
            "   empl_2022_sum  peri   Njsem  Nnsem   Njwe  Nnwe  \n",
            "0           3762  500m  3191.7  734.4  552.3   607  \n"
          ]
        }
      ]
    },
    {
      "cell_type": "code",
      "source": [
        "# Convertir les données en un DataFrame Pandas\n",
        "combined_data = pd.concat([zi_buf_gdf['500m'], zi_buf_gdf['1km'], zi_buf_gdf['5km']], ignore_index=True)\n",
        "\n",
        "# Sauvegarder le résultat final dans un fichier CSV\n",
        "combined_data.to_csv(\"result_combined_data.csv\", index=False)\n"
      ],
      "metadata": {
        "id": "4rBVeT28ZX6i"
      },
      "execution_count": null,
      "outputs": []
    },
    {
      "cell_type": "code",
      "source": [
        "print(combined_data.columns)\n"
      ],
      "metadata": {
        "colab": {
          "base_uri": "https://localhost:8080/"
        },
        "id": "ykKH_9YFXc_K",
        "outputId": "b4b5b2ac-4815-4d06-8c18-71adc5848a2b"
      },
      "execution_count": null,
      "outputs": [
        {
          "output_type": "stream",
          "name": "stdout",
          "text": [
            "Index(['geometry', 'pop_2023_sum', 'empl_2022_sum', 'peri', 'Njsem', 'Nnsem',\n",
            "       'Njwe', 'Nnwe'],\n",
            "      dtype='object')\n"
          ]
        }
      ]
    },
    {
      "cell_type": "code",
      "source": [
        "print(zi_buf_gdf['500m'].columns)  # Vérifie les colonnes du GeoDataFrame pour la zone tampon 500m\n",
        "print(zi_buf_gdf['1km'].columns)  # Vérifie les colonnes du GeoDataFrame pour la zone tampon 1km\n",
        "print(zi_buf_gdf['5km'].columns)  # Vérifie les colonnes du GeoDataFrame pour la zone tampon 5km\n"
      ],
      "metadata": {
        "colab": {
          "base_uri": "https://localhost:8080/"
        },
        "id": "CRjqJvD2YisL",
        "outputId": "2d02702f-b967-4f86-b037-55989706c876"
      },
      "execution_count": null,
      "outputs": [
        {
          "output_type": "stream",
          "name": "stdout",
          "text": [
            "Index(['geometry'], dtype='object')\n",
            "Index(['geometry'], dtype='object')\n",
            "Index(['geometry'], dtype='object')\n"
          ]
        }
      ]
    },
    {
      "cell_type": "code",
      "source": [],
      "metadata": {
        "id": "6tXOoscdaYlt"
      },
      "execution_count": null,
      "outputs": []
    },
    {
      "cell_type": "code",
      "source": [],
      "metadata": {
        "id": "r3Nv9muRaY8r"
      },
      "execution_count": null,
      "outputs": []
    },
    {
      "cell_type": "code",
      "source": [
        "print(data_peri.head())  # Affiche les 5 premières lignes des résultats agrégés par périmètre\n",
        "print(data_cmne.head())  # Affiche les 5 premières lignes des résultats agrégés par commune\n"
      ],
      "metadata": {
        "colab": {
          "base_uri": "https://localhost:8080/"
        },
        "id": "NoYRvAmVaZfl",
        "outputId": "054f642e-1dde-4a0b-dfaf-5360eefcc417"
      },
      "execution_count": null,
      "outputs": [
        {
          "output_type": "stream",
          "name": "stdout",
          "text": [
            "   peri  pop_2023_sum  empl_2022_sum    Njsem      Nnsem      Njwe    Nnwe\n",
            "0   1km          1165            396    666.3    1068.30    718.80    1165\n",
            "1  500m           607           3762   3191.7     734.40    552.30     607\n",
            "2   5km        115183          51967  76128.5  106263.05  71708.15  115183\n",
            "Empty DataFrame\n",
            "Columns: [bfs_nummer, name, pop_2023_sum, empl_2022_sum, Njsem, Nnsem, Njwe, Nnwe]\n",
            "Index: []\n"
          ]
        }
      ]
    }
  ],
  "metadata": {
    "colab": {
      "provenance": [],
      "include_colab_link": true
    },
    "kernelspec": {
      "display_name": "imports_TM",
      "language": "python",
      "name": "python3"
    },
    "language_info": {
      "name": "python",
      "version": "3.9.18"
    }
  },
  "nbformat": 4,
  "nbformat_minor": 0
}